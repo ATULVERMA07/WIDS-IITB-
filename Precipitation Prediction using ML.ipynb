{
 "cells": [
  {
   "cell_type": "markdown",
   "id": "a5b42305",
   "metadata": {},
   "source": [
    "### DATA DESCRIPTION"
   ]
  },
  {
   "cell_type": "markdown",
   "id": "6dfbe029",
   "metadata": {},
   "source": [
    "The dataset is fairly simple and contains various features regarding precipitation.\n",
    " * PRCP = Precipitation (tenths of mm)\n",
    " * TMAX = Maximum temperature (tenths of degrees C)\n",
    " * TMIN = Minimum temperature (tenths of degrees C)\n",
    " * PGTM = Peak gust time (hours and minutes, i.e., HHMM)\n",
    " * AWND= Average daily wind speed (tenths of meters per second)\n",
    " * TAVG = Average temperature (tenths of degrees C)\n",
    " * WDFx = Direction of fastest x-minute wind (degrees)\n",
    " * WSFx= Fastest x-minute wind speed (tenths of meters per second)\n",
    " * WT = Weather Type"
   ]
  },
  {
   "cell_type": "markdown",
   "id": "2bf3efbc",
   "metadata": {},
   "source": [
    "### IMPORTING DATA"
   ]
  },
  {
   "cell_type": "code",
   "execution_count": 1,
   "id": "174e464e",
   "metadata": {},
   "outputs": [],
   "source": [
    "import pandas as pd\n",
    "import numpy as np\n",
    "import seaborn as sns\n",
    "import matplotlib.pyplot as plt\n",
    "from sklearn.cluster import KMeans\n",
    "from sklearn.metrics import accuracy_score"
   ]
  },
  {
   "cell_type": "code",
   "execution_count": 2,
   "id": "3e764c31",
   "metadata": {},
   "outputs": [],
   "source": [
    "%matplotlib inline"
   ]
  },
  {
   "cell_type": "code",
   "execution_count": 3,
   "id": "15e1c35b",
   "metadata": {},
   "outputs": [],
   "source": [
    "data = pd.read_csv(r\"C:\\Users\\verma\\Documents\\Processing\\Wids project\\dataset.csv\")"
   ]
  },
  {
   "cell_type": "code",
   "execution_count": 4,
   "id": "ef80756b",
   "metadata": {},
   "outputs": [
    {
     "data": {
      "text/plain": [
       "array([0.  , 0.01, 1.61, 0.8 , 0.3 , 0.43, 0.58, 0.21, 0.64, 0.38, 0.52,\n",
       "       0.03, 0.02, 0.06, 0.14, 0.04, 0.05, 0.34, 0.09, 0.55, 0.2 , 0.13,\n",
       "       1.33, 0.5 , 0.27, 1.41, 0.39, 0.08, 0.07, 0.77, 1.13, 0.98, 1.51,\n",
       "       2.67, 0.33, 0.23, 0.88, 2.01, 0.1 , 0.32, 1.45, 0.51, 0.17, 0.65,\n",
       "       0.56, 0.42, 0.15, 1.02, 1.91, 0.74, 1.  , 0.99, 0.93, 1.73, 0.46,\n",
       "       0.24, 0.26, 0.12, 2.12, 0.18, 0.89, 1.25, 0.48, 0.63, 0.49, 1.12,\n",
       "       0.92, 1.07, 0.68, 0.25, 1.3 , 1.1 , 0.82, 0.75, 0.16, 0.11, 1.81])"
      ]
     },
     "execution_count": 4,
     "metadata": {},
     "output_type": "execute_result"
    }
   ],
   "source": [
    "data['PRCP'].unique()"
   ]
  },
  {
   "cell_type": "markdown",
   "id": "2264e457",
   "metadata": {},
   "source": [
    "**Precipitation column in the dataframe will be our target feature in this model. We have to replace all values greater than 0 as 1 (representing precipitation will occur), and values that are equal to 0 representing precipitation will not occur.**"
   ]
  },
  {
   "cell_type": "code",
   "execution_count": 5,
   "id": "c8bc211f",
   "metadata": {},
   "outputs": [
    {
     "data": {
      "text/plain": [
       "0.00    1660\n",
       "0.01      20\n",
       "0.03      12\n",
       "0.02       9\n",
       "0.04       8\n",
       "        ... \n",
       "0.64       1\n",
       "1.02       1\n",
       "1.91       1\n",
       "0.74       1\n",
       "1.81       1\n",
       "Name: PRCP, Length: 77, dtype: int64"
      ]
     },
     "execution_count": 5,
     "metadata": {},
     "output_type": "execute_result"
    }
   ],
   "source": [
    "data['PRCP'].value_counts()"
   ]
  },
  {
   "cell_type": "code",
   "execution_count": 6,
   "id": "78e0abd5",
   "metadata": {},
   "outputs": [
    {
     "name": "stderr",
     "output_type": "stream",
     "text": [
      "C:\\Users\\verma\\AppData\\Local\\Temp\\ipykernel_39824\\4257058929.py:3: SettingWithCopyWarning: \n",
      "A value is trying to be set on a copy of a slice from a DataFrame\n",
      "\n",
      "See the caveats in the documentation: https://pandas.pydata.org/pandas-docs/stable/user_guide/indexing.html#returning-a-view-versus-a-copy\n",
      "  data['PRCP'].iloc[i] = 1\n"
     ]
    }
   ],
   "source": [
    "for i in range(len(data['PRCP'])):\n",
    "    if data['PRCP'].iloc[i] > 0:\n",
    "        data['PRCP'].iloc[i] = 1\n",
    "        "
   ]
  },
  {
   "cell_type": "code",
   "execution_count": 7,
   "id": "4d19d5ef",
   "metadata": {},
   "outputs": [
    {
     "data": {
      "text/plain": [
       "0.0    1660\n",
       "1.0     167\n",
       "Name: PRCP, dtype: int64"
      ]
     },
     "execution_count": 7,
     "metadata": {},
     "output_type": "execute_result"
    }
   ],
   "source": [
    "data['PRCP'].value_counts()"
   ]
  },
  {
   "cell_type": "markdown",
   "id": "20b1f128",
   "metadata": {},
   "source": [
    "### ANALYSIS THE DATASET AND CLEAN DATA"
   ]
  },
  {
   "cell_type": "code",
   "execution_count": 8,
   "id": "1797de96",
   "metadata": {},
   "outputs": [
    {
     "data": {
      "text/html": [
       "<div>\n",
       "<style scoped>\n",
       "    .dataframe tbody tr th:only-of-type {\n",
       "        vertical-align: middle;\n",
       "    }\n",
       "\n",
       "    .dataframe tbody tr th {\n",
       "        vertical-align: top;\n",
       "    }\n",
       "\n",
       "    .dataframe thead th {\n",
       "        text-align: right;\n",
       "    }\n",
       "</style>\n",
       "<table border=\"1\" class=\"dataframe\">\n",
       "  <thead>\n",
       "    <tr style=\"text-align: right;\">\n",
       "      <th></th>\n",
       "      <th>STATION</th>\n",
       "      <th>NAME</th>\n",
       "      <th>DATE</th>\n",
       "      <th>AWND</th>\n",
       "      <th>PGTM</th>\n",
       "      <th>PRCP</th>\n",
       "      <th>TAVG</th>\n",
       "      <th>TMAX</th>\n",
       "      <th>TMIN</th>\n",
       "      <th>WDF2</th>\n",
       "      <th>WDF5</th>\n",
       "      <th>WSF2</th>\n",
       "      <th>WSF5</th>\n",
       "      <th>WT01</th>\n",
       "      <th>WT02</th>\n",
       "      <th>WT08</th>\n",
       "    </tr>\n",
       "  </thead>\n",
       "  <tbody>\n",
       "    <tr>\n",
       "      <th>0</th>\n",
       "      <td>USW00093134</td>\n",
       "      <td>LOS ANGELES DOWNTOWN USC, CA US</td>\n",
       "      <td>2016-01-01</td>\n",
       "      <td>2.46</td>\n",
       "      <td>NaN</td>\n",
       "      <td>0.0</td>\n",
       "      <td>NaN</td>\n",
       "      <td>64</td>\n",
       "      <td>43</td>\n",
       "      <td>10.0</td>\n",
       "      <td>30.0</td>\n",
       "      <td>8.1</td>\n",
       "      <td>11.0</td>\n",
       "      <td>NaN</td>\n",
       "      <td>NaN</td>\n",
       "      <td>1.0</td>\n",
       "    </tr>\n",
       "    <tr>\n",
       "      <th>1</th>\n",
       "      <td>USW00093134</td>\n",
       "      <td>LOS ANGELES DOWNTOWN USC, CA US</td>\n",
       "      <td>2016-01-02</td>\n",
       "      <td>2.01</td>\n",
       "      <td>NaN</td>\n",
       "      <td>0.0</td>\n",
       "      <td>NaN</td>\n",
       "      <td>65</td>\n",
       "      <td>47</td>\n",
       "      <td>270.0</td>\n",
       "      <td>30.0</td>\n",
       "      <td>6.0</td>\n",
       "      <td>8.9</td>\n",
       "      <td>NaN</td>\n",
       "      <td>NaN</td>\n",
       "      <td>NaN</td>\n",
       "    </tr>\n",
       "    <tr>\n",
       "      <th>2</th>\n",
       "      <td>USW00093134</td>\n",
       "      <td>LOS ANGELES DOWNTOWN USC, CA US</td>\n",
       "      <td>2016-01-03</td>\n",
       "      <td>0.67</td>\n",
       "      <td>NaN</td>\n",
       "      <td>0.0</td>\n",
       "      <td>NaN</td>\n",
       "      <td>62</td>\n",
       "      <td>44</td>\n",
       "      <td>150.0</td>\n",
       "      <td>150.0</td>\n",
       "      <td>10.1</td>\n",
       "      <td>14.1</td>\n",
       "      <td>NaN</td>\n",
       "      <td>NaN</td>\n",
       "      <td>NaN</td>\n",
       "    </tr>\n",
       "    <tr>\n",
       "      <th>3</th>\n",
       "      <td>USW00093134</td>\n",
       "      <td>LOS ANGELES DOWNTOWN USC, CA US</td>\n",
       "      <td>2016-01-04</td>\n",
       "      <td>1.34</td>\n",
       "      <td>NaN</td>\n",
       "      <td>1.0</td>\n",
       "      <td>NaN</td>\n",
       "      <td>69</td>\n",
       "      <td>55</td>\n",
       "      <td>270.0</td>\n",
       "      <td>280.0</td>\n",
       "      <td>8.1</td>\n",
       "      <td>14.1</td>\n",
       "      <td>NaN</td>\n",
       "      <td>NaN</td>\n",
       "      <td>NaN</td>\n",
       "    </tr>\n",
       "    <tr>\n",
       "      <th>4</th>\n",
       "      <td>USW00093134</td>\n",
       "      <td>LOS ANGELES DOWNTOWN USC, CA US</td>\n",
       "      <td>2016-01-05</td>\n",
       "      <td>2.46</td>\n",
       "      <td>NaN</td>\n",
       "      <td>1.0</td>\n",
       "      <td>NaN</td>\n",
       "      <td>59</td>\n",
       "      <td>49</td>\n",
       "      <td>140.0</td>\n",
       "      <td>140.0</td>\n",
       "      <td>10.1</td>\n",
       "      <td>16.1</td>\n",
       "      <td>1.0</td>\n",
       "      <td>1.0</td>\n",
       "      <td>NaN</td>\n",
       "    </tr>\n",
       "  </tbody>\n",
       "</table>\n",
       "</div>"
      ],
      "text/plain": [
       "       STATION                             NAME        DATE  AWND  PGTM  PRCP  \\\n",
       "0  USW00093134  LOS ANGELES DOWNTOWN USC, CA US  2016-01-01  2.46   NaN   0.0   \n",
       "1  USW00093134  LOS ANGELES DOWNTOWN USC, CA US  2016-01-02  2.01   NaN   0.0   \n",
       "2  USW00093134  LOS ANGELES DOWNTOWN USC, CA US  2016-01-03  0.67   NaN   0.0   \n",
       "3  USW00093134  LOS ANGELES DOWNTOWN USC, CA US  2016-01-04  1.34   NaN   1.0   \n",
       "4  USW00093134  LOS ANGELES DOWNTOWN USC, CA US  2016-01-05  2.46   NaN   1.0   \n",
       "\n",
       "   TAVG  TMAX  TMIN   WDF2   WDF5  WSF2  WSF5  WT01  WT02  WT08  \n",
       "0   NaN    64    43   10.0   30.0   8.1  11.0   NaN   NaN   1.0  \n",
       "1   NaN    65    47  270.0   30.0   6.0   8.9   NaN   NaN   NaN  \n",
       "2   NaN    62    44  150.0  150.0  10.1  14.1   NaN   NaN   NaN  \n",
       "3   NaN    69    55  270.0  280.0   8.1  14.1   NaN   NaN   NaN  \n",
       "4   NaN    59    49  140.0  140.0  10.1  16.1   1.0   1.0   NaN  "
      ]
     },
     "execution_count": 8,
     "metadata": {},
     "output_type": "execute_result"
    }
   ],
   "source": [
    "data.head()"
   ]
  },
  {
   "cell_type": "code",
   "execution_count": 9,
   "id": "f0c4cb0d",
   "metadata": {},
   "outputs": [
    {
     "data": {
      "text/html": [
       "<div>\n",
       "<style scoped>\n",
       "    .dataframe tbody tr th:only-of-type {\n",
       "        vertical-align: middle;\n",
       "    }\n",
       "\n",
       "    .dataframe tbody tr th {\n",
       "        vertical-align: top;\n",
       "    }\n",
       "\n",
       "    .dataframe thead th {\n",
       "        text-align: right;\n",
       "    }\n",
       "</style>\n",
       "<table border=\"1\" class=\"dataframe\">\n",
       "  <thead>\n",
       "    <tr style=\"text-align: right;\">\n",
       "      <th></th>\n",
       "      <th>STATION</th>\n",
       "      <th>NAME</th>\n",
       "      <th>DATE</th>\n",
       "      <th>AWND</th>\n",
       "      <th>PGTM</th>\n",
       "      <th>PRCP</th>\n",
       "      <th>TAVG</th>\n",
       "      <th>TMAX</th>\n",
       "      <th>TMIN</th>\n",
       "      <th>WDF2</th>\n",
       "      <th>WDF5</th>\n",
       "      <th>WSF2</th>\n",
       "      <th>WSF5</th>\n",
       "      <th>WT01</th>\n",
       "      <th>WT02</th>\n",
       "      <th>WT08</th>\n",
       "    </tr>\n",
       "  </thead>\n",
       "  <tbody>\n",
       "    <tr>\n",
       "      <th>1822</th>\n",
       "      <td>USW00093134</td>\n",
       "      <td>LOS ANGELES DOWNTOWN USC, CA US</td>\n",
       "      <td>2020-12-27</td>\n",
       "      <td>1.12</td>\n",
       "      <td>NaN</td>\n",
       "      <td>1.0</td>\n",
       "      <td>NaN</td>\n",
       "      <td>66</td>\n",
       "      <td>55</td>\n",
       "      <td>270.0</td>\n",
       "      <td>260.0</td>\n",
       "      <td>8.9</td>\n",
       "      <td>18.1</td>\n",
       "      <td>1.0</td>\n",
       "      <td>NaN</td>\n",
       "      <td>1.0</td>\n",
       "    </tr>\n",
       "    <tr>\n",
       "      <th>1823</th>\n",
       "      <td>USW00093134</td>\n",
       "      <td>LOS ANGELES DOWNTOWN USC, CA US</td>\n",
       "      <td>2020-12-28</td>\n",
       "      <td>4.70</td>\n",
       "      <td>NaN</td>\n",
       "      <td>1.0</td>\n",
       "      <td>NaN</td>\n",
       "      <td>56</td>\n",
       "      <td>47</td>\n",
       "      <td>90.0</td>\n",
       "      <td>260.0</td>\n",
       "      <td>14.1</td>\n",
       "      <td>21.0</td>\n",
       "      <td>1.0</td>\n",
       "      <td>NaN</td>\n",
       "      <td>NaN</td>\n",
       "    </tr>\n",
       "    <tr>\n",
       "      <th>1824</th>\n",
       "      <td>USW00093134</td>\n",
       "      <td>LOS ANGELES DOWNTOWN USC, CA US</td>\n",
       "      <td>2020-12-29</td>\n",
       "      <td>1.57</td>\n",
       "      <td>NaN</td>\n",
       "      <td>0.0</td>\n",
       "      <td>NaN</td>\n",
       "      <td>65</td>\n",
       "      <td>42</td>\n",
       "      <td>340.0</td>\n",
       "      <td>360.0</td>\n",
       "      <td>10.1</td>\n",
       "      <td>18.1</td>\n",
       "      <td>NaN</td>\n",
       "      <td>NaN</td>\n",
       "      <td>NaN</td>\n",
       "    </tr>\n",
       "    <tr>\n",
       "      <th>1825</th>\n",
       "      <td>USW00093134</td>\n",
       "      <td>LOS ANGELES DOWNTOWN USC, CA US</td>\n",
       "      <td>2020-12-30</td>\n",
       "      <td>0.45</td>\n",
       "      <td>NaN</td>\n",
       "      <td>0.0</td>\n",
       "      <td>NaN</td>\n",
       "      <td>69</td>\n",
       "      <td>44</td>\n",
       "      <td>260.0</td>\n",
       "      <td>260.0</td>\n",
       "      <td>6.9</td>\n",
       "      <td>12.1</td>\n",
       "      <td>NaN</td>\n",
       "      <td>NaN</td>\n",
       "      <td>NaN</td>\n",
       "    </tr>\n",
       "    <tr>\n",
       "      <th>1826</th>\n",
       "      <td>USW00093134</td>\n",
       "      <td>LOS ANGELES DOWNTOWN USC, CA US</td>\n",
       "      <td>2020-12-31</td>\n",
       "      <td>1.57</td>\n",
       "      <td>NaN</td>\n",
       "      <td>0.0</td>\n",
       "      <td>NaN</td>\n",
       "      <td>70</td>\n",
       "      <td>43</td>\n",
       "      <td>350.0</td>\n",
       "      <td>350.0</td>\n",
       "      <td>12.1</td>\n",
       "      <td>19.9</td>\n",
       "      <td>NaN</td>\n",
       "      <td>NaN</td>\n",
       "      <td>NaN</td>\n",
       "    </tr>\n",
       "  </tbody>\n",
       "</table>\n",
       "</div>"
      ],
      "text/plain": [
       "          STATION                             NAME        DATE  AWND  PGTM  \\\n",
       "1822  USW00093134  LOS ANGELES DOWNTOWN USC, CA US  2020-12-27  1.12   NaN   \n",
       "1823  USW00093134  LOS ANGELES DOWNTOWN USC, CA US  2020-12-28  4.70   NaN   \n",
       "1824  USW00093134  LOS ANGELES DOWNTOWN USC, CA US  2020-12-29  1.57   NaN   \n",
       "1825  USW00093134  LOS ANGELES DOWNTOWN USC, CA US  2020-12-30  0.45   NaN   \n",
       "1826  USW00093134  LOS ANGELES DOWNTOWN USC, CA US  2020-12-31  1.57   NaN   \n",
       "\n",
       "      PRCP  TAVG  TMAX  TMIN   WDF2   WDF5  WSF2  WSF5  WT01  WT02  WT08  \n",
       "1822   1.0   NaN    66    55  270.0  260.0   8.9  18.1   1.0   NaN   1.0  \n",
       "1823   1.0   NaN    56    47   90.0  260.0  14.1  21.0   1.0   NaN   NaN  \n",
       "1824   0.0   NaN    65    42  340.0  360.0  10.1  18.1   NaN   NaN   NaN  \n",
       "1825   0.0   NaN    69    44  260.0  260.0   6.9  12.1   NaN   NaN   NaN  \n",
       "1826   0.0   NaN    70    43  350.0  350.0  12.1  19.9   NaN   NaN   NaN  "
      ]
     },
     "execution_count": 9,
     "metadata": {},
     "output_type": "execute_result"
    }
   ],
   "source": [
    "data.tail()"
   ]
  },
  {
   "cell_type": "markdown",
   "id": "2033cc47",
   "metadata": {},
   "source": [
    "**COMMENT :-** There are NaN value presaent in data that need to deal ( remove or replace )"
   ]
  },
  {
   "cell_type": "code",
   "execution_count": 10,
   "id": "cbb15010",
   "metadata": {},
   "outputs": [
    {
     "data": {
      "text/plain": [
       "(1827, 16)"
      ]
     },
     "execution_count": 10,
     "metadata": {},
     "output_type": "execute_result"
    }
   ],
   "source": [
    "data.shape"
   ]
  },
  {
   "cell_type": "code",
   "execution_count": 11,
   "id": "4d4ff51a",
   "metadata": {},
   "outputs": [
    {
     "data": {
      "text/plain": [
       "STATION       0\n",
       "NAME          0\n",
       "DATE          0\n",
       "AWND          4\n",
       "PGTM       1765\n",
       "PRCP          0\n",
       "TAVG       1827\n",
       "TMAX          0\n",
       "TMIN          0\n",
       "WDF2          5\n",
       "WDF5         18\n",
       "WSF2          4\n",
       "WSF5         18\n",
       "WT01       1276\n",
       "WT02       1788\n",
       "WT08        966\n",
       "dtype: int64"
      ]
     },
     "execution_count": 11,
     "metadata": {},
     "output_type": "execute_result"
    }
   ],
   "source": [
    "data.isnull().sum()"
   ]
  },
  {
   "cell_type": "code",
   "execution_count": 12,
   "id": "99a2b882",
   "metadata": {},
   "outputs": [
    {
     "name": "stdout",
     "output_type": "stream",
     "text": [
      "No of nan values in 'PGTM' is:  1765\n",
      "But the data shape is  (1827, 16)\n"
     ]
    }
   ],
   "source": [
    "print(\"No of nan values in 'PGTM' is: \", data['PGTM'].isnull().sum())\n",
    "print('But the data shape is ', data.shape)\n"
   ]
  },
  {
   "cell_type": "markdown",
   "id": "ff4da923",
   "metadata": {},
   "source": [
    "**COMMENT :-** Columns 'PGTM', 'TAVG', 'WT01', 'WT02' and 'WT08' has large number of null values and it's better to remove them."
   ]
  },
  {
   "cell_type": "code",
   "execution_count": 13,
   "id": "f082543f",
   "metadata": {},
   "outputs": [],
   "source": [
    "data.drop(['PGTM', 'TAVG', 'WT01','WT02','WT08'], inplace = True, axis = 1)"
   ]
  },
  {
   "cell_type": "code",
   "execution_count": 14,
   "id": "6bb78cf4",
   "metadata": {},
   "outputs": [
    {
     "data": {
      "text/plain": [
       "STATION     0\n",
       "NAME        0\n",
       "DATE        0\n",
       "AWND        4\n",
       "PRCP        0\n",
       "TMAX        0\n",
       "TMIN        0\n",
       "WDF2        5\n",
       "WDF5       18\n",
       "WSF2        4\n",
       "WSF5       18\n",
       "dtype: int64"
      ]
     },
     "execution_count": 14,
     "metadata": {},
     "output_type": "execute_result"
    }
   ],
   "source": [
    "data.isnull().sum()"
   ]
  },
  {
   "cell_type": "code",
   "execution_count": 15,
   "id": "f6f0b98d",
   "metadata": {},
   "outputs": [
    {
     "data": {
      "text/html": [
       "<div>\n",
       "<style scoped>\n",
       "    .dataframe tbody tr th:only-of-type {\n",
       "        vertical-align: middle;\n",
       "    }\n",
       "\n",
       "    .dataframe tbody tr th {\n",
       "        vertical-align: top;\n",
       "    }\n",
       "\n",
       "    .dataframe thead th {\n",
       "        text-align: right;\n",
       "    }\n",
       "</style>\n",
       "<table border=\"1\" class=\"dataframe\">\n",
       "  <thead>\n",
       "    <tr style=\"text-align: right;\">\n",
       "      <th></th>\n",
       "      <th>AWND</th>\n",
       "      <th>PRCP</th>\n",
       "      <th>TMAX</th>\n",
       "      <th>TMIN</th>\n",
       "      <th>WDF2</th>\n",
       "      <th>WDF5</th>\n",
       "      <th>WSF2</th>\n",
       "      <th>WSF5</th>\n",
       "    </tr>\n",
       "  </thead>\n",
       "  <tbody>\n",
       "    <tr>\n",
       "      <th>count</th>\n",
       "      <td>1823.000000</td>\n",
       "      <td>1827.000000</td>\n",
       "      <td>1827.000000</td>\n",
       "      <td>1827.000000</td>\n",
       "      <td>1822.000000</td>\n",
       "      <td>1809.000000</td>\n",
       "      <td>1823.000000</td>\n",
       "      <td>1809.000000</td>\n",
       "    </tr>\n",
       "    <tr>\n",
       "      <th>mean</th>\n",
       "      <td>1.675710</td>\n",
       "      <td>0.091407</td>\n",
       "      <td>76.498632</td>\n",
       "      <td>58.120416</td>\n",
       "      <td>254.143798</td>\n",
       "      <td>256.428966</td>\n",
       "      <td>9.062095</td>\n",
       "      <td>14.721669</td>\n",
       "    </tr>\n",
       "    <tr>\n",
       "      <th>std</th>\n",
       "      <td>0.909434</td>\n",
       "      <td>0.288265</td>\n",
       "      <td>9.133929</td>\n",
       "      <td>7.223756</td>\n",
       "      <td>54.756284</td>\n",
       "      <td>55.571902</td>\n",
       "      <td>2.016827</td>\n",
       "      <td>3.622257</td>\n",
       "    </tr>\n",
       "    <tr>\n",
       "      <th>min</th>\n",
       "      <td>0.000000</td>\n",
       "      <td>0.000000</td>\n",
       "      <td>52.000000</td>\n",
       "      <td>38.000000</td>\n",
       "      <td>10.000000</td>\n",
       "      <td>10.000000</td>\n",
       "      <td>2.900000</td>\n",
       "      <td>6.000000</td>\n",
       "    </tr>\n",
       "    <tr>\n",
       "      <th>25%</th>\n",
       "      <td>1.120000</td>\n",
       "      <td>0.000000</td>\n",
       "      <td>70.000000</td>\n",
       "      <td>53.000000</td>\n",
       "      <td>260.000000</td>\n",
       "      <td>270.000000</td>\n",
       "      <td>8.100000</td>\n",
       "      <td>12.100000</td>\n",
       "    </tr>\n",
       "    <tr>\n",
       "      <th>50%</th>\n",
       "      <td>1.570000</td>\n",
       "      <td>0.000000</td>\n",
       "      <td>76.000000</td>\n",
       "      <td>58.000000</td>\n",
       "      <td>270.000000</td>\n",
       "      <td>270.000000</td>\n",
       "      <td>8.900000</td>\n",
       "      <td>14.100000</td>\n",
       "    </tr>\n",
       "    <tr>\n",
       "      <th>75%</th>\n",
       "      <td>2.010000</td>\n",
       "      <td>0.000000</td>\n",
       "      <td>83.000000</td>\n",
       "      <td>64.000000</td>\n",
       "      <td>270.000000</td>\n",
       "      <td>280.000000</td>\n",
       "      <td>10.100000</td>\n",
       "      <td>16.100000</td>\n",
       "    </tr>\n",
       "    <tr>\n",
       "      <th>max</th>\n",
       "      <td>8.050000</td>\n",
       "      <td>1.000000</td>\n",
       "      <td>111.000000</td>\n",
       "      <td>79.000000</td>\n",
       "      <td>360.000000</td>\n",
       "      <td>360.000000</td>\n",
       "      <td>21.000000</td>\n",
       "      <td>34.000000</td>\n",
       "    </tr>\n",
       "  </tbody>\n",
       "</table>\n",
       "</div>"
      ],
      "text/plain": [
       "              AWND         PRCP         TMAX         TMIN         WDF2  \\\n",
       "count  1823.000000  1827.000000  1827.000000  1827.000000  1822.000000   \n",
       "mean      1.675710     0.091407    76.498632    58.120416   254.143798   \n",
       "std       0.909434     0.288265     9.133929     7.223756    54.756284   \n",
       "min       0.000000     0.000000    52.000000    38.000000    10.000000   \n",
       "25%       1.120000     0.000000    70.000000    53.000000   260.000000   \n",
       "50%       1.570000     0.000000    76.000000    58.000000   270.000000   \n",
       "75%       2.010000     0.000000    83.000000    64.000000   270.000000   \n",
       "max       8.050000     1.000000   111.000000    79.000000   360.000000   \n",
       "\n",
       "              WDF5         WSF2         WSF5  \n",
       "count  1809.000000  1823.000000  1809.000000  \n",
       "mean    256.428966     9.062095    14.721669  \n",
       "std      55.571902     2.016827     3.622257  \n",
       "min      10.000000     2.900000     6.000000  \n",
       "25%     270.000000     8.100000    12.100000  \n",
       "50%     270.000000     8.900000    14.100000  \n",
       "75%     280.000000    10.100000    16.100000  \n",
       "max     360.000000    21.000000    34.000000  "
      ]
     },
     "execution_count": 15,
     "metadata": {},
     "output_type": "execute_result"
    }
   ],
   "source": [
    "data.describe()"
   ]
  },
  {
   "cell_type": "markdown",
   "id": "ab7d01f0",
   "metadata": {},
   "source": [
    "**COMMENT :-** \n",
    "  * Column AWND has high maximum value compare to 3rd quartile. It may have outliers.\n",
    "  * Column PRCP has only max value which mean maximum value are 0 which show class imbalance"
   ]
  },
  {
   "cell_type": "markdown",
   "id": "faf68640",
   "metadata": {},
   "source": [
    "**NOW LOOK AT EACH COLUMNS**"
   ]
  },
  {
   "cell_type": "code",
   "execution_count": 16,
   "id": "be1d7aa4",
   "metadata": {},
   "outputs": [
    {
     "data": {
      "text/plain": [
       "Index(['STATION', 'NAME', 'DATE', 'AWND', 'PRCP', 'TMAX', 'TMIN', 'WDF2',\n",
       "       'WDF5', 'WSF2', 'WSF5'],\n",
       "      dtype='object')"
      ]
     },
     "execution_count": 16,
     "metadata": {},
     "output_type": "execute_result"
    }
   ],
   "source": [
    "data.columns"
   ]
  },
  {
   "cell_type": "code",
   "execution_count": 17,
   "id": "6f0bdeb6",
   "metadata": {},
   "outputs": [
    {
     "data": {
      "text/plain": [
       "STATION       1\n",
       "NAME          1\n",
       "DATE       1827\n",
       "AWND         32\n",
       "PRCP          2\n",
       "TMAX         52\n",
       "TMIN         42\n",
       "WDF2         29\n",
       "WDF5         30\n",
       "WSF2         17\n",
       "WSF5         26\n",
       "dtype: int64"
      ]
     },
     "execution_count": 17,
     "metadata": {},
     "output_type": "execute_result"
    }
   ],
   "source": [
    "data.nunique()"
   ]
  },
  {
   "cell_type": "code",
   "execution_count": 18,
   "id": "b04c11fb",
   "metadata": {},
   "outputs": [
    {
     "data": {
      "text/plain": [
       "array(['USW00093134'], dtype=object)"
      ]
     },
     "execution_count": 18,
     "metadata": {},
     "output_type": "execute_result"
    }
   ],
   "source": [
    "# Column 1\n",
    "data['STATION'].unique()"
   ]
  },
  {
   "cell_type": "markdown",
   "id": "83ca98fa",
   "metadata": {},
   "source": [
    "**COMMENT 1:-** \n",
    "     Column 'STATION' has only one Station name so it's better to drop it."
   ]
  },
  {
   "cell_type": "code",
   "execution_count": 19,
   "id": "b59ac117",
   "metadata": {},
   "outputs": [
    {
     "data": {
      "text/plain": [
       "array(['LOS ANGELES DOWNTOWN USC, CA US'], dtype=object)"
      ]
     },
     "execution_count": 19,
     "metadata": {},
     "output_type": "execute_result"
    }
   ],
   "source": [
    "# Column 2\n",
    "data['NAME'].unique()"
   ]
  },
  {
   "cell_type": "markdown",
   "id": "64122a31",
   "metadata": {},
   "source": [
    "**COMMENT 2:-** . Column 'NAME' has only one unique value so it's better to drop it."
   ]
  },
  {
   "cell_type": "code",
   "execution_count": 20,
   "id": "dd760d6c",
   "metadata": {},
   "outputs": [
    {
     "data": {
      "text/plain": [
       "array(['2016-01-01', '2016-01-02', '2016-01-03', ..., '2020-12-29',\n",
       "       '2020-12-30', '2020-12-31'], dtype=object)"
      ]
     },
     "execution_count": 20,
     "metadata": {},
     "output_type": "execute_result"
    }
   ],
   "source": [
    "# Column 3\n",
    "data['DATE'].unique()"
   ]
  },
  {
   "cell_type": "markdown",
   "id": "513251fa",
   "metadata": {},
   "source": [
    "**Drop the columns which are not neccessary like STATION, NAME, DATE**"
   ]
  },
  {
   "cell_type": "code",
   "execution_count": 21,
   "id": "5d593646",
   "metadata": {},
   "outputs": [],
   "source": [
    "# drop the columns\n",
    "data.drop(['STATION', 'NAME', 'DATE'], axis = 1, inplace = True)"
   ]
  },
  {
   "cell_type": "code",
   "execution_count": 22,
   "id": "0c211ea2",
   "metadata": {},
   "outputs": [
    {
     "data": {
      "text/plain": [
       "array([2.46, 2.01, 0.67, 1.34, 2.91, 1.79, 2.24, 1.12, 0.22, 1.57, 0.89,\n",
       "       4.47, 6.04, 0.45, 4.7 , 3.36, 2.68, 3.58, 3.13, 5.59, 6.71, 4.25,\n",
       "        nan, 3.8 , 4.03, 5.14, 4.92, 0.  , 7.16, 8.05, 5.82, 5.37, 6.49])"
      ]
     },
     "execution_count": 22,
     "metadata": {},
     "output_type": "execute_result"
    }
   ],
   "source": [
    "# Continue to watch each columns \n",
    "# Column 4\n",
    "data['AWND'].unique()"
   ]
  },
  {
   "cell_type": "code",
   "execution_count": 23,
   "id": "72f972d0",
   "metadata": {},
   "outputs": [
    {
     "data": {
      "text/plain": [
       "4"
      ]
     },
     "execution_count": 23,
     "metadata": {},
     "output_type": "execute_result"
    }
   ],
   "source": [
    "data.AWND.isnull().sum()"
   ]
  },
  {
   "cell_type": "code",
   "execution_count": 24,
   "id": "7572d076",
   "metadata": {},
   "outputs": [
    {
     "data": {
      "text/plain": [
       "0       2.46\n",
       "1       2.01\n",
       "2       0.67\n",
       "3       1.34\n",
       "4       2.46\n",
       "        ... \n",
       "1822    1.12\n",
       "1823    4.70\n",
       "1824    1.57\n",
       "1825    0.45\n",
       "1826    1.57\n",
       "Name: AWND, Length: 1827, dtype: float64"
      ]
     },
     "execution_count": 24,
     "metadata": {},
     "output_type": "execute_result"
    }
   ],
   "source": [
    "data['AWND']"
   ]
  },
  {
   "cell_type": "markdown",
   "id": "83fc2ae2",
   "metadata": {},
   "source": [
    "**COMMENT 3:-**  Column 'AWND' has only 4 nan value so we replace it by mode values."
   ]
  },
  {
   "cell_type": "code",
   "execution_count": 25,
   "id": "b0b4d470",
   "metadata": {},
   "outputs": [
    {
     "name": "stdout",
     "output_type": "stream",
     "text": [
      "[ 64  65  62  69  59  58  60  70  66  67  68  63  77  71  73  74  72  76\n",
      "  84  88  89  87  85  75  79  90  78  83  81  61  80  82  96 101  86  92\n",
      "  95  97  91 104  93  56  94  98 102 100  99 108  57  52 111 103]\n",
      "Number of nan values in column:  0\n"
     ]
    }
   ],
   "source": [
    "# Column 5\n",
    "print(data['TMAX'].unique())\n",
    "print('Number of nan values in column: ', data['TMAX'].isnull().sum() )"
   ]
  },
  {
   "cell_type": "code",
   "execution_count": 26,
   "id": "f8ee19cd",
   "metadata": {},
   "outputs": [
    {
     "name": "stdout",
     "output_type": "stream",
     "text": [
      "[43 47 44 55 49 46 45 51 50 54 52 41 53 56 61 59 48 58 57 60 62 63 66 71\n",
      " 67 64 65 68 69 70 42 40 72 74 76 78 73 79 75 39 38 77]\n",
      "Number of nan values in column:  0\n"
     ]
    }
   ],
   "source": [
    "# Column 6\n",
    "print(data['TMIN'].unique())\n",
    "print('Number of nan values in column: ', data['TMIN'].isnull().sum() )"
   ]
  },
  {
   "cell_type": "code",
   "execution_count": 27,
   "id": "615b758a",
   "metadata": {},
   "outputs": [
    {
     "name": "stdout",
     "output_type": "stream",
     "text": [
      "[ 10. 270. 150. 140.  80.  20. 280.  90. 260. 350. 100. 320. 310.  60.\n",
      " 330. 290. 130. 170. 340.  70. 110.  nan 120.  50. 160. 300.  30. 360.\n",
      " 250.  40.]\n",
      "Number of nan values in column:  5\n"
     ]
    }
   ],
   "source": [
    "# Column 7\n",
    "print(data['WDF2'].unique())\n",
    "print('Number of nan values in column: ', data['WDF2'].isnull().sum() )"
   ]
  },
  {
   "cell_type": "markdown",
   "id": "1117f779",
   "metadata": {},
   "source": [
    "**COMMENT 4:-**  Column \"WDF2\" has 5 nan values so it's better to replace by mode value"
   ]
  },
  {
   "cell_type": "code",
   "execution_count": 28,
   "id": "01ca516a",
   "metadata": {},
   "outputs": [
    {
     "name": "stdout",
     "output_type": "stream",
     "text": [
      "[ 30. 150. 280. 140. 290.  10. 340. 100. 270. 120. 360. 110. 260. 250.\n",
      "  90. 180. 310. 170. 330.  nan 350.  20. 160.  70.  40.  50.  80. 130.\n",
      " 300.  60. 320.]\n",
      "Number of nan value in column:  18\n"
     ]
    }
   ],
   "source": [
    "# Column 8\n",
    "print(data['WDF5'].unique())\n",
    "print('Number of nan value in column: ', data['WDF5'].isnull().sum() )"
   ]
  },
  {
   "cell_type": "markdown",
   "id": "e0dd7318",
   "metadata": {},
   "source": [
    "**COMMENT 5:-**  Column \"WDF5\" has 18 nan values so it's better to replace by mode value."
   ]
  },
  {
   "cell_type": "code",
   "execution_count": 29,
   "id": "4ac918db",
   "metadata": {},
   "outputs": [
    {
     "name": "stdout",
     "output_type": "stream",
     "text": [
      "[ 8.1  6.  10.1 12.1  6.9  8.9 16.1 14.1 13.  17.  15.   4.9 18.1  2.9\n",
      "  nan  4.  19.9 21. ]\n",
      "Number of nan value in column:  4\n"
     ]
    }
   ],
   "source": [
    "# Column 9\n",
    "print(data['WSF2'].unique())\n",
    "print('Number of nan value in column: ', data['WSF2'].isnull().sum() )"
   ]
  },
  {
   "cell_type": "markdown",
   "id": "50940041",
   "metadata": {},
   "source": [
    "**COMMENT 6:-**  Column \"WSF2\" has 4 nan values so it's better to replace by mode value."
   ]
  },
  {
   "cell_type": "code",
   "execution_count": 30,
   "id": "f868caf1",
   "metadata": {},
   "outputs": [
    {
     "name": "stdout",
     "output_type": "stream",
     "text": [
      "[11.   8.9 14.1 16.1 17.  18.1 10.1 12.1 13.  15.  32.  34.  25.9 19.\n",
      " 21.  28.  23.  29.1 25.1  nan 19.9 27.1  8.1 21.9 23.9  6.  30. ]\n"
     ]
    }
   ],
   "source": [
    "# Column 10\n",
    "print(data['WSF5'].unique())\n"
   ]
  },
  {
   "cell_type": "code",
   "execution_count": 31,
   "id": "a816a723",
   "metadata": {},
   "outputs": [
    {
     "name": "stdout",
     "output_type": "stream",
     "text": [
      "Number of nan value in column:  18\n"
     ]
    }
   ],
   "source": [
    "print('Number of nan value in column: ', data['WSF5'].isnull().sum() )"
   ]
  },
  {
   "cell_type": "markdown",
   "id": "24b4feeb",
   "metadata": {},
   "source": [
    "**COMMENT 7:-** Column 'WSF5' has 18 null value, we replace it by mode value."
   ]
  },
  {
   "cell_type": "code",
   "execution_count": 32,
   "id": "bb3ed487",
   "metadata": {},
   "outputs": [
    {
     "data": {
      "text/plain": [
       "AWND     4\n",
       "PRCP     0\n",
       "TMAX     0\n",
       "TMIN     0\n",
       "WDF2     5\n",
       "WDF5    18\n",
       "WSF2     4\n",
       "WSF5    18\n",
       "dtype: int64"
      ]
     },
     "execution_count": 32,
     "metadata": {},
     "output_type": "execute_result"
    }
   ],
   "source": [
    "data.isnull().sum()"
   ]
  },
  {
   "cell_type": "markdown",
   "id": "be8af9fe",
   "metadata": {},
   "source": []
  },
  {
   "cell_type": "markdown",
   "id": "ac163311",
   "metadata": {},
   "source": [
    "**Filling column which has low nan value by Mode filling**"
   ]
  },
  {
   "cell_type": "code",
   "execution_count": 33,
   "id": "07b7e0b9",
   "metadata": {},
   "outputs": [
    {
     "data": {
      "text/plain": [
       "AWND     4\n",
       "PRCP     0\n",
       "TMAX     0\n",
       "TMIN     0\n",
       "WDF2     5\n",
       "WDF5    18\n",
       "WSF2     4\n",
       "WSF5    18\n",
       "dtype: int64"
      ]
     },
     "execution_count": 33,
     "metadata": {},
     "output_type": "execute_result"
    }
   ],
   "source": [
    "data.isnull().sum()"
   ]
  },
  {
   "cell_type": "code",
   "execution_count": 34,
   "id": "0d18ef0c",
   "metadata": {},
   "outputs": [],
   "source": [
    "for i in data.columns:\n",
    "    mode = data[i].mode()[0]\n",
    "    for j in range(len(data[i])):\n",
    "        if data[i].isnull().iloc[j] == True :\n",
    "            data[i].fillna(mode , inplace = True)"
   ]
  },
  {
   "cell_type": "code",
   "execution_count": 35,
   "id": "e145cc8a",
   "metadata": {},
   "outputs": [
    {
     "data": {
      "text/plain": [
       "AWND    0\n",
       "PRCP    0\n",
       "TMAX    0\n",
       "TMIN    0\n",
       "WDF2    0\n",
       "WDF5    0\n",
       "WSF2    0\n",
       "WSF5    0\n",
       "dtype: int64"
      ]
     },
     "execution_count": 35,
     "metadata": {},
     "output_type": "execute_result"
    }
   ],
   "source": [
    "data.isnull().sum()"
   ]
  },
  {
   "cell_type": "code",
   "execution_count": 36,
   "id": "2d0c01e5",
   "metadata": {},
   "outputs": [
    {
     "data": {
      "text/html": [
       "<div>\n",
       "<style scoped>\n",
       "    .dataframe tbody tr th:only-of-type {\n",
       "        vertical-align: middle;\n",
       "    }\n",
       "\n",
       "    .dataframe tbody tr th {\n",
       "        vertical-align: top;\n",
       "    }\n",
       "\n",
       "    .dataframe thead th {\n",
       "        text-align: right;\n",
       "    }\n",
       "</style>\n",
       "<table border=\"1\" class=\"dataframe\">\n",
       "  <thead>\n",
       "    <tr style=\"text-align: right;\">\n",
       "      <th></th>\n",
       "      <th>AWND</th>\n",
       "      <th>PRCP</th>\n",
       "      <th>TMAX</th>\n",
       "      <th>TMIN</th>\n",
       "      <th>WDF2</th>\n",
       "      <th>WDF5</th>\n",
       "      <th>WSF2</th>\n",
       "      <th>WSF5</th>\n",
       "    </tr>\n",
       "  </thead>\n",
       "  <tbody>\n",
       "    <tr>\n",
       "      <th>0</th>\n",
       "      <td>2.46</td>\n",
       "      <td>0.0</td>\n",
       "      <td>64</td>\n",
       "      <td>43</td>\n",
       "      <td>10.0</td>\n",
       "      <td>30.0</td>\n",
       "      <td>8.1</td>\n",
       "      <td>11.0</td>\n",
       "    </tr>\n",
       "    <tr>\n",
       "      <th>1</th>\n",
       "      <td>2.01</td>\n",
       "      <td>0.0</td>\n",
       "      <td>65</td>\n",
       "      <td>47</td>\n",
       "      <td>270.0</td>\n",
       "      <td>30.0</td>\n",
       "      <td>6.0</td>\n",
       "      <td>8.9</td>\n",
       "    </tr>\n",
       "    <tr>\n",
       "      <th>2</th>\n",
       "      <td>0.67</td>\n",
       "      <td>0.0</td>\n",
       "      <td>62</td>\n",
       "      <td>44</td>\n",
       "      <td>150.0</td>\n",
       "      <td>150.0</td>\n",
       "      <td>10.1</td>\n",
       "      <td>14.1</td>\n",
       "    </tr>\n",
       "    <tr>\n",
       "      <th>3</th>\n",
       "      <td>1.34</td>\n",
       "      <td>1.0</td>\n",
       "      <td>69</td>\n",
       "      <td>55</td>\n",
       "      <td>270.0</td>\n",
       "      <td>280.0</td>\n",
       "      <td>8.1</td>\n",
       "      <td>14.1</td>\n",
       "    </tr>\n",
       "    <tr>\n",
       "      <th>4</th>\n",
       "      <td>2.46</td>\n",
       "      <td>1.0</td>\n",
       "      <td>59</td>\n",
       "      <td>49</td>\n",
       "      <td>140.0</td>\n",
       "      <td>140.0</td>\n",
       "      <td>10.1</td>\n",
       "      <td>16.1</td>\n",
       "    </tr>\n",
       "  </tbody>\n",
       "</table>\n",
       "</div>"
      ],
      "text/plain": [
       "   AWND  PRCP  TMAX  TMIN   WDF2   WDF5  WSF2  WSF5\n",
       "0  2.46   0.0    64    43   10.0   30.0   8.1  11.0\n",
       "1  2.01   0.0    65    47  270.0   30.0   6.0   8.9\n",
       "2  0.67   0.0    62    44  150.0  150.0  10.1  14.1\n",
       "3  1.34   1.0    69    55  270.0  280.0   8.1  14.1\n",
       "4  2.46   1.0    59    49  140.0  140.0  10.1  16.1"
      ]
     },
     "execution_count": 36,
     "metadata": {},
     "output_type": "execute_result"
    }
   ],
   "source": [
    "data.head()"
   ]
  },
  {
   "cell_type": "markdown",
   "id": "2f603fd1",
   "metadata": {},
   "source": [
    "### EDA OF DATA"
   ]
  },
  {
   "cell_type": "code",
   "execution_count": 37,
   "id": "3543fdff",
   "metadata": {},
   "outputs": [],
   "source": [
    "# sns.histplot(data['TMAX'], kde = True)\n",
    "# plt.show()"
   ]
  },
  {
   "cell_type": "markdown",
   "id": "43a10f7e",
   "metadata": {},
   "source": [
    "### HANDLING CLASS IMBALANCE"
   ]
  },
  {
   "cell_type": "code",
   "execution_count": 38,
   "id": "16312428",
   "metadata": {},
   "outputs": [
    {
     "data": {
      "image/png": "[encoded data removed]",
      "text/plain": [
       "<Figure size 432x288 with 1 Axes>"
      ]
     },
     "metadata": {
      "needs_background": "light"
     },
     "output_type": "display_data"
    }
   ],
   "source": [
    "sns.histplot(data['PRCP'])\n",
    "plt.show()"
   ]
  },
  {
   "cell_type": "markdown",
   "id": "9cd9b131",
   "metadata": {},
   "source": [
    "**Here 0 has more number of times compare to 1 so it will create class imbalance**"
   ]
  },
  {
   "cell_type": "code",
   "execution_count": 39,
   "id": "48a06d46",
   "metadata": {},
   "outputs": [
    {
     "data": {
      "text/plain": [
       "0.0    1660\n",
       "1.0     167\n",
       "Name: PRCP, dtype: int64"
      ]
     },
     "execution_count": 39,
     "metadata": {},
     "output_type": "execute_result"
    }
   ],
   "source": [
    "data['PRCP'].value_counts()"
   ]
  },
  {
   "cell_type": "code",
   "execution_count": 40,
   "id": "96c2f9c7",
   "metadata": {},
   "outputs": [],
   "source": [
    "from sklearn.datasets import make_classification\n",
    "from imblearn.over_sampling import SMOTE"
   ]
  },
  {
   "cell_type": "code",
   "execution_count": 41,
   "id": "94a19673",
   "metadata": {},
   "outputs": [],
   "source": [
    "x = data.drop('PRCP', axis = 1)\n",
    "y = data[['PRCP']]"
   ]
  },
  {
   "cell_type": "code",
   "execution_count": 42,
   "id": "0b34b7aa",
   "metadata": {},
   "outputs": [
    {
     "name": "stdout",
     "output_type": "stream",
     "text": [
      "Resampled dataset shape PRCP\n",
      "0.0     1660\n",
      "1.0     1660\n",
      "dtype: int64\n"
     ]
    }
   ],
   "source": [
    "sm = SMOTE(random_state=42)\n",
    "x_res, y_res = sm.fit_resample(x, y)\n",
    "print('Resampled dataset shape %s' % y_res.value_counts())"
   ]
  },
  {
   "cell_type": "code",
   "execution_count": 43,
   "id": "56be2c4b",
   "metadata": {},
   "outputs": [
    {
     "data": {
      "text/html": [
       "<div>\n",
       "<style scoped>\n",
       "    .dataframe tbody tr th:only-of-type {\n",
       "        vertical-align: middle;\n",
       "    }\n",
       "\n",
       "    .dataframe tbody tr th {\n",
       "        vertical-align: top;\n",
       "    }\n",
       "\n",
       "    .dataframe thead th {\n",
       "        text-align: right;\n",
       "    }\n",
       "</style>\n",
       "<table border=\"1\" class=\"dataframe\">\n",
       "  <thead>\n",
       "    <tr style=\"text-align: right;\">\n",
       "      <th></th>\n",
       "      <th>AWND</th>\n",
       "      <th>TMAX</th>\n",
       "      <th>TMIN</th>\n",
       "      <th>WDF2</th>\n",
       "      <th>WDF5</th>\n",
       "      <th>WSF2</th>\n",
       "      <th>WSF5</th>\n",
       "    </tr>\n",
       "  </thead>\n",
       "  <tbody>\n",
       "    <tr>\n",
       "      <th>0</th>\n",
       "      <td>2.460000</td>\n",
       "      <td>64</td>\n",
       "      <td>43</td>\n",
       "      <td>10.000000</td>\n",
       "      <td>30.0</td>\n",
       "      <td>8.100000</td>\n",
       "      <td>11.000000</td>\n",
       "    </tr>\n",
       "    <tr>\n",
       "      <th>1</th>\n",
       "      <td>2.010000</td>\n",
       "      <td>65</td>\n",
       "      <td>47</td>\n",
       "      <td>270.000000</td>\n",
       "      <td>30.0</td>\n",
       "      <td>6.000000</td>\n",
       "      <td>8.900000</td>\n",
       "    </tr>\n",
       "    <tr>\n",
       "      <th>2</th>\n",
       "      <td>0.670000</td>\n",
       "      <td>62</td>\n",
       "      <td>44</td>\n",
       "      <td>150.000000</td>\n",
       "      <td>150.0</td>\n",
       "      <td>10.100000</td>\n",
       "      <td>14.100000</td>\n",
       "    </tr>\n",
       "    <tr>\n",
       "      <th>3</th>\n",
       "      <td>1.340000</td>\n",
       "      <td>69</td>\n",
       "      <td>55</td>\n",
       "      <td>270.000000</td>\n",
       "      <td>280.0</td>\n",
       "      <td>8.100000</td>\n",
       "      <td>14.100000</td>\n",
       "    </tr>\n",
       "    <tr>\n",
       "      <th>4</th>\n",
       "      <td>2.460000</td>\n",
       "      <td>59</td>\n",
       "      <td>49</td>\n",
       "      <td>140.000000</td>\n",
       "      <td>140.0</td>\n",
       "      <td>10.100000</td>\n",
       "      <td>16.100000</td>\n",
       "    </tr>\n",
       "    <tr>\n",
       "      <th>...</th>\n",
       "      <td>...</td>\n",
       "      <td>...</td>\n",
       "      <td>...</td>\n",
       "      <td>...</td>\n",
       "      <td>...</td>\n",
       "      <td>...</td>\n",
       "      <td>...</td>\n",
       "    </tr>\n",
       "    <tr>\n",
       "      <th>3315</th>\n",
       "      <td>1.731518</td>\n",
       "      <td>64</td>\n",
       "      <td>54</td>\n",
       "      <td>260.000000</td>\n",
       "      <td>260.0</td>\n",
       "      <td>9.008003</td>\n",
       "      <td>16.591399</td>\n",
       "    </tr>\n",
       "    <tr>\n",
       "      <th>3316</th>\n",
       "      <td>2.010000</td>\n",
       "      <td>66</td>\n",
       "      <td>55</td>\n",
       "      <td>270.000000</td>\n",
       "      <td>270.0</td>\n",
       "      <td>8.100000</td>\n",
       "      <td>13.476548</td>\n",
       "    </tr>\n",
       "    <tr>\n",
       "      <th>3317</th>\n",
       "      <td>2.554170</td>\n",
       "      <td>60</td>\n",
       "      <td>53</td>\n",
       "      <td>100.000000</td>\n",
       "      <td>100.0</td>\n",
       "      <td>13.537788</td>\n",
       "      <td>20.030185</td>\n",
       "    </tr>\n",
       "    <tr>\n",
       "      <th>3318</th>\n",
       "      <td>1.870891</td>\n",
       "      <td>64</td>\n",
       "      <td>53</td>\n",
       "      <td>260.000000</td>\n",
       "      <td>260.0</td>\n",
       "      <td>9.071179</td>\n",
       "      <td>16.479390</td>\n",
       "    </tr>\n",
       "    <tr>\n",
       "      <th>3319</th>\n",
       "      <td>4.895492</td>\n",
       "      <td>63</td>\n",
       "      <td>52</td>\n",
       "      <td>90.275367</td>\n",
       "      <td>110.0</td>\n",
       "      <td>16.014636</td>\n",
       "      <td>23.765070</td>\n",
       "    </tr>\n",
       "  </tbody>\n",
       "</table>\n",
       "<p>3320 rows × 7 columns</p>\n",
       "</div>"
      ],
      "text/plain": [
       "          AWND  TMAX  TMIN        WDF2   WDF5       WSF2       WSF5\n",
       "0     2.460000    64    43   10.000000   30.0   8.100000  11.000000\n",
       "1     2.010000    65    47  270.000000   30.0   6.000000   8.900000\n",
       "2     0.670000    62    44  150.000000  150.0  10.100000  14.100000\n",
       "3     1.340000    69    55  270.000000  280.0   8.100000  14.100000\n",
       "4     2.460000    59    49  140.000000  140.0  10.100000  16.100000\n",
       "...        ...   ...   ...         ...    ...        ...        ...\n",
       "3315  1.731518    64    54  260.000000  260.0   9.008003  16.591399\n",
       "3316  2.010000    66    55  270.000000  270.0   8.100000  13.476548\n",
       "3317  2.554170    60    53  100.000000  100.0  13.537788  20.030185\n",
       "3318  1.870891    64    53  260.000000  260.0   9.071179  16.479390\n",
       "3319  4.895492    63    52   90.275367  110.0  16.014636  23.765070\n",
       "\n",
       "[3320 rows x 7 columns]"
      ]
     },
     "execution_count": 43,
     "metadata": {},
     "output_type": "execute_result"
    }
   ],
   "source": [
    "x_res"
   ]
  },
  {
   "cell_type": "code",
   "execution_count": 44,
   "id": "e2f086f0",
   "metadata": {},
   "outputs": [
    {
     "data": {
      "image/png": "[encoded data removed]",
      "text/plain": [
       "<Figure size 432x288 with 1 Axes>"
      ]
     },
     "metadata": {
      "needs_background": "light"
     },
     "output_type": "display_data"
    }
   ],
   "source": [
    "sns.histplot(y_res)\n",
    "plt.show()"
   ]
  },
  {
   "cell_type": "code",
   "execution_count": 45,
   "id": "7795766f",
   "metadata": {},
   "outputs": [
    {
     "data": {
      "text/plain": [
       "(3320, 7)"
      ]
     },
     "execution_count": 45,
     "metadata": {},
     "output_type": "execute_result"
    }
   ],
   "source": [
    "x_res.shape"
   ]
  },
  {
   "cell_type": "code",
   "execution_count": 46,
   "id": "8186c5dc",
   "metadata": {},
   "outputs": [
    {
     "data": {
      "text/html": [
       "<div>\n",
       "<style scoped>\n",
       "    .dataframe tbody tr th:only-of-type {\n",
       "        vertical-align: middle;\n",
       "    }\n",
       "\n",
       "    .dataframe tbody tr th {\n",
       "        vertical-align: top;\n",
       "    }\n",
       "\n",
       "    .dataframe thead th {\n",
       "        text-align: right;\n",
       "    }\n",
       "</style>\n",
       "<table border=\"1\" class=\"dataframe\">\n",
       "  <thead>\n",
       "    <tr style=\"text-align: right;\">\n",
       "      <th></th>\n",
       "      <th>AWND</th>\n",
       "      <th>TMAX</th>\n",
       "      <th>TMIN</th>\n",
       "      <th>WDF2</th>\n",
       "      <th>WDF5</th>\n",
       "      <th>WSF2</th>\n",
       "      <th>WSF5</th>\n",
       "    </tr>\n",
       "  </thead>\n",
       "  <tbody>\n",
       "    <tr>\n",
       "      <th>0</th>\n",
       "      <td>2.46</td>\n",
       "      <td>64</td>\n",
       "      <td>43</td>\n",
       "      <td>10.0</td>\n",
       "      <td>30.0</td>\n",
       "      <td>8.1</td>\n",
       "      <td>11.0</td>\n",
       "    </tr>\n",
       "    <tr>\n",
       "      <th>1</th>\n",
       "      <td>2.01</td>\n",
       "      <td>65</td>\n",
       "      <td>47</td>\n",
       "      <td>270.0</td>\n",
       "      <td>30.0</td>\n",
       "      <td>6.0</td>\n",
       "      <td>8.9</td>\n",
       "    </tr>\n",
       "    <tr>\n",
       "      <th>2</th>\n",
       "      <td>0.67</td>\n",
       "      <td>62</td>\n",
       "      <td>44</td>\n",
       "      <td>150.0</td>\n",
       "      <td>150.0</td>\n",
       "      <td>10.1</td>\n",
       "      <td>14.1</td>\n",
       "    </tr>\n",
       "    <tr>\n",
       "      <th>3</th>\n",
       "      <td>1.34</td>\n",
       "      <td>69</td>\n",
       "      <td>55</td>\n",
       "      <td>270.0</td>\n",
       "      <td>280.0</td>\n",
       "      <td>8.1</td>\n",
       "      <td>14.1</td>\n",
       "    </tr>\n",
       "    <tr>\n",
       "      <th>4</th>\n",
       "      <td>2.46</td>\n",
       "      <td>59</td>\n",
       "      <td>49</td>\n",
       "      <td>140.0</td>\n",
       "      <td>140.0</td>\n",
       "      <td>10.1</td>\n",
       "      <td>16.1</td>\n",
       "    </tr>\n",
       "  </tbody>\n",
       "</table>\n",
       "</div>"
      ],
      "text/plain": [
       "   AWND  TMAX  TMIN   WDF2   WDF5  WSF2  WSF5\n",
       "0  2.46    64    43   10.0   30.0   8.1  11.0\n",
       "1  2.01    65    47  270.0   30.0   6.0   8.9\n",
       "2  0.67    62    44  150.0  150.0  10.1  14.1\n",
       "3  1.34    69    55  270.0  280.0   8.1  14.1\n",
       "4  2.46    59    49  140.0  140.0  10.1  16.1"
      ]
     },
     "execution_count": 46,
     "metadata": {},
     "output_type": "execute_result"
    }
   ],
   "source": [
    "x_res.head()"
   ]
  },
  {
   "cell_type": "markdown",
   "id": "964f9eee",
   "metadata": {},
   "source": [
    "### EDA OF DATA"
   ]
  },
  {
   "cell_type": "markdown",
   "id": "d804915a",
   "metadata": {},
   "source": [
    "**Column AWND= Average daily wind speed (tenths of meters per second)**"
   ]
  },
  {
   "cell_type": "code",
   "execution_count": 47,
   "id": "5e967337",
   "metadata": {},
   "outputs": [
    {
     "data": {
      "image/png": "[encoded data removed]",
      "text/plain": [
       "<Figure size 720x432 with 2 Axes>"
      ]
     },
     "metadata": {
      "needs_background": "light"
     },
     "output_type": "display_data"
    }
   ],
   "source": [
    "fig,ax = plt.subplots(1,2, figsize = (10,6))\n",
    "\n",
    "# before class imbalance\\\n",
    "sns.histplot(data['AWND'], ax = ax[0])\n",
    "ax[0].set_title('Before class imbalance', fontweight = 'bold', size = 15)\n",
    "ax[0].set_xlabel('AWND',fontsize = 15)\n",
    "\n",
    "sns.histplot(x_res['AWND'], kde = True, ax = ax[1])\n",
    "ax[1].set_title('After class imbalance', fontweight = 'bold',size =15)\n",
    "ax[1].set_xlabel('AWND',fontsize = 15)\n",
    "\n",
    "plt.tight_layout() \n",
    "plt.show()"
   ]
  },
  {
   "cell_type": "code",
   "execution_count": 48,
   "id": "12fffe0f",
   "metadata": {},
   "outputs": [
    {
     "data": {
      "image/png": "[encoded data removed]",
      "text/plain": [
       "<Figure size 720x360 with 2 Axes>"
      ]
     },
     "metadata": {
      "needs_background": "light"
     },
     "output_type": "display_data"
    }
   ],
   "source": [
    "fig,ax = plt.subplots(1,2, figsize = (10,5))\n",
    "sns.boxplot(ax = ax[0], data = data, y = 'AWND')\n",
    "ax[0].set_title('Before class imbalance', fontweight ='bold', size = 15)\n",
    "\n",
    "sns.boxplot(ax = ax[1], data = x_res, y = 'AWND')\n",
    "ax[1].set_title('After class imbalance', fontweight ='bold', size = 15)\n",
    "\n",
    "plt.tight_layout() \n",
    "plt.show()"
   ]
  },
  {
   "cell_type": "code",
   "execution_count": 49,
   "id": "35020daa",
   "metadata": {},
   "outputs": [
    {
     "data": {
      "text/html": [
       "<div>\n",
       "<style scoped>\n",
       "    .dataframe tbody tr th:only-of-type {\n",
       "        vertical-align: middle;\n",
       "    }\n",
       "\n",
       "    .dataframe tbody tr th {\n",
       "        vertical-align: top;\n",
       "    }\n",
       "\n",
       "    .dataframe thead th {\n",
       "        text-align: right;\n",
       "    }\n",
       "</style>\n",
       "<table border=\"1\" class=\"dataframe\">\n",
       "  <thead>\n",
       "    <tr style=\"text-align: right;\">\n",
       "      <th></th>\n",
       "      <th>AWND</th>\n",
       "      <th>TMAX</th>\n",
       "      <th>TMIN</th>\n",
       "      <th>WDF2</th>\n",
       "      <th>WDF5</th>\n",
       "      <th>WSF2</th>\n",
       "      <th>WSF5</th>\n",
       "    </tr>\n",
       "  </thead>\n",
       "  <tbody>\n",
       "    <tr>\n",
       "      <th>30</th>\n",
       "      <td>4.470000</td>\n",
       "      <td>59</td>\n",
       "      <td>50</td>\n",
       "      <td>270.000000</td>\n",
       "      <td>280.000000</td>\n",
       "      <td>16.100000</td>\n",
       "      <td>32.000000</td>\n",
       "    </tr>\n",
       "    <tr>\n",
       "      <th>31</th>\n",
       "      <td>6.040000</td>\n",
       "      <td>58</td>\n",
       "      <td>43</td>\n",
       "      <td>320.000000</td>\n",
       "      <td>340.000000</td>\n",
       "      <td>16.100000</td>\n",
       "      <td>32.000000</td>\n",
       "    </tr>\n",
       "    <tr>\n",
       "      <th>65</th>\n",
       "      <td>4.700000</td>\n",
       "      <td>67</td>\n",
       "      <td>54</td>\n",
       "      <td>270.000000</td>\n",
       "      <td>270.000000</td>\n",
       "      <td>16.100000</td>\n",
       "      <td>34.000000</td>\n",
       "    </tr>\n",
       "    <tr>\n",
       "      <th>81</th>\n",
       "      <td>5.590000</td>\n",
       "      <td>71</td>\n",
       "      <td>53</td>\n",
       "      <td>310.000000</td>\n",
       "      <td>310.000000</td>\n",
       "      <td>16.100000</td>\n",
       "      <td>25.900000</td>\n",
       "    </tr>\n",
       "    <tr>\n",
       "      <th>105</th>\n",
       "      <td>6.710000</td>\n",
       "      <td>81</td>\n",
       "      <td>59</td>\n",
       "      <td>330.000000</td>\n",
       "      <td>330.000000</td>\n",
       "      <td>17.000000</td>\n",
       "      <td>29.100000</td>\n",
       "    </tr>\n",
       "    <tr>\n",
       "      <th>...</th>\n",
       "      <td>...</td>\n",
       "      <td>...</td>\n",
       "      <td>...</td>\n",
       "      <td>...</td>\n",
       "      <td>...</td>\n",
       "      <td>...</td>\n",
       "      <td>...</td>\n",
       "    </tr>\n",
       "    <tr>\n",
       "      <th>3303</th>\n",
       "      <td>4.435900</td>\n",
       "      <td>60</td>\n",
       "      <td>51</td>\n",
       "      <td>100.000000</td>\n",
       "      <td>100.000000</td>\n",
       "      <td>10.100000</td>\n",
       "      <td>16.049104</td>\n",
       "    </tr>\n",
       "    <tr>\n",
       "      <th>3310</th>\n",
       "      <td>5.529409</td>\n",
       "      <td>60</td>\n",
       "      <td>54</td>\n",
       "      <td>80.000000</td>\n",
       "      <td>86.771206</td>\n",
       "      <td>11.682109</td>\n",
       "      <td>17.227868</td>\n",
       "    </tr>\n",
       "    <tr>\n",
       "      <th>3311</th>\n",
       "      <td>5.492384</td>\n",
       "      <td>57</td>\n",
       "      <td>50</td>\n",
       "      <td>100.000000</td>\n",
       "      <td>90.000000</td>\n",
       "      <td>14.576883</td>\n",
       "      <td>24.304747</td>\n",
       "    </tr>\n",
       "    <tr>\n",
       "      <th>3313</th>\n",
       "      <td>5.152036</td>\n",
       "      <td>58</td>\n",
       "      <td>51</td>\n",
       "      <td>107.821074</td>\n",
       "      <td>110.000000</td>\n",
       "      <td>12.368112</td>\n",
       "      <td>21.268112</td>\n",
       "    </tr>\n",
       "    <tr>\n",
       "      <th>3319</th>\n",
       "      <td>4.895492</td>\n",
       "      <td>63</td>\n",
       "      <td>52</td>\n",
       "      <td>90.275367</td>\n",
       "      <td>110.000000</td>\n",
       "      <td>16.014636</td>\n",
       "      <td>23.765070</td>\n",
       "    </tr>\n",
       "  </tbody>\n",
       "</table>\n",
       "<p>233 rows × 7 columns</p>\n",
       "</div>"
      ],
      "text/plain": [
       "          AWND  TMAX  TMIN        WDF2        WDF5       WSF2       WSF5\n",
       "30    4.470000    59    50  270.000000  280.000000  16.100000  32.000000\n",
       "31    6.040000    58    43  320.000000  340.000000  16.100000  32.000000\n",
       "65    4.700000    67    54  270.000000  270.000000  16.100000  34.000000\n",
       "81    5.590000    71    53  310.000000  310.000000  16.100000  25.900000\n",
       "105   6.710000    81    59  330.000000  330.000000  17.000000  29.100000\n",
       "...        ...   ...   ...         ...         ...        ...        ...\n",
       "3303  4.435900    60    51  100.000000  100.000000  10.100000  16.049104\n",
       "3310  5.529409    60    54   80.000000   86.771206  11.682109  17.227868\n",
       "3311  5.492384    57    50  100.000000   90.000000  14.576883  24.304747\n",
       "3313  5.152036    58    51  107.821074  110.000000  12.368112  21.268112\n",
       "3319  4.895492    63    52   90.275367  110.000000  16.014636  23.765070\n",
       "\n",
       "[233 rows x 7 columns]"
      ]
     },
     "execution_count": 49,
     "metadata": {},
     "output_type": "execute_result"
    }
   ],
   "source": [
    "Q1 = np.quantile(x_res['AWND'], 0.25)\n",
    "Q3 = np.quantile(x_res['AWND'], 0.75)\n",
    "IQR = Q3 -Q1\n",
    "lower = Q1 - 1.5*IQR\n",
    "upper = Q3 + 1.5*IQR\n",
    "x_res[x_res['AWND'] > upper]"
   ]
  },
  {
   "cell_type": "code",
   "execution_count": 50,
   "id": "fbd894a4",
   "metadata": {},
   "outputs": [
    {
     "data": {
      "text/html": [
       "<div>\n",
       "<style scoped>\n",
       "    .dataframe tbody tr th:only-of-type {\n",
       "        vertical-align: middle;\n",
       "    }\n",
       "\n",
       "    .dataframe tbody tr th {\n",
       "        vertical-align: top;\n",
       "    }\n",
       "\n",
       "    .dataframe thead th {\n",
       "        text-align: right;\n",
       "    }\n",
       "</style>\n",
       "<table border=\"1\" class=\"dataframe\">\n",
       "  <thead>\n",
       "    <tr style=\"text-align: right;\">\n",
       "      <th></th>\n",
       "      <th>AWND</th>\n",
       "      <th>TMAX</th>\n",
       "      <th>TMIN</th>\n",
       "      <th>WDF2</th>\n",
       "      <th>WDF5</th>\n",
       "      <th>WSF2</th>\n",
       "      <th>WSF5</th>\n",
       "    </tr>\n",
       "  </thead>\n",
       "  <tbody>\n",
       "    <tr>\n",
       "      <th>31</th>\n",
       "      <td>6.040000</td>\n",
       "      <td>58</td>\n",
       "      <td>43</td>\n",
       "      <td>320.000000</td>\n",
       "      <td>340.000000</td>\n",
       "      <td>16.100000</td>\n",
       "      <td>32.000000</td>\n",
       "    </tr>\n",
       "    <tr>\n",
       "      <th>105</th>\n",
       "      <td>6.710000</td>\n",
       "      <td>81</td>\n",
       "      <td>59</td>\n",
       "      <td>330.000000</td>\n",
       "      <td>330.000000</td>\n",
       "      <td>17.000000</td>\n",
       "      <td>29.100000</td>\n",
       "    </tr>\n",
       "    <tr>\n",
       "      <th>387</th>\n",
       "      <td>6.710000</td>\n",
       "      <td>56</td>\n",
       "      <td>51</td>\n",
       "      <td>100.000000</td>\n",
       "      <td>90.000000</td>\n",
       "      <td>17.000000</td>\n",
       "      <td>28.000000</td>\n",
       "    </tr>\n",
       "    <tr>\n",
       "      <th>413</th>\n",
       "      <td>7.160000</td>\n",
       "      <td>61</td>\n",
       "      <td>53</td>\n",
       "      <td>130.000000</td>\n",
       "      <td>140.000000</td>\n",
       "      <td>17.000000</td>\n",
       "      <td>30.000000</td>\n",
       "    </tr>\n",
       "    <tr>\n",
       "      <th>482</th>\n",
       "      <td>6.040000</td>\n",
       "      <td>85</td>\n",
       "      <td>60</td>\n",
       "      <td>330.000000</td>\n",
       "      <td>330.000000</td>\n",
       "      <td>17.000000</td>\n",
       "      <td>34.000000</td>\n",
       "    </tr>\n",
       "    <tr>\n",
       "      <th>483</th>\n",
       "      <td>8.050000</td>\n",
       "      <td>85</td>\n",
       "      <td>69</td>\n",
       "      <td>320.000000</td>\n",
       "      <td>330.000000</td>\n",
       "      <td>18.100000</td>\n",
       "      <td>32.000000</td>\n",
       "    </tr>\n",
       "    <tr>\n",
       "      <th>832</th>\n",
       "      <td>6.710000</td>\n",
       "      <td>70</td>\n",
       "      <td>55</td>\n",
       "      <td>350.000000</td>\n",
       "      <td>300.000000</td>\n",
       "      <td>15.000000</td>\n",
       "      <td>28.000000</td>\n",
       "    </tr>\n",
       "    <tr>\n",
       "      <th>1195</th>\n",
       "      <td>6.040000</td>\n",
       "      <td>77</td>\n",
       "      <td>59</td>\n",
       "      <td>270.000000</td>\n",
       "      <td>280.000000</td>\n",
       "      <td>14.100000</td>\n",
       "      <td>23.000000</td>\n",
       "    </tr>\n",
       "    <tr>\n",
       "      <th>1452</th>\n",
       "      <td>6.490000</td>\n",
       "      <td>60</td>\n",
       "      <td>51</td>\n",
       "      <td>90.000000</td>\n",
       "      <td>80.000000</td>\n",
       "      <td>19.900000</td>\n",
       "      <td>32.000000</td>\n",
       "    </tr>\n",
       "    <tr>\n",
       "      <th>1870</th>\n",
       "      <td>6.553513</td>\n",
       "      <td>58</td>\n",
       "      <td>51</td>\n",
       "      <td>92.886937</td>\n",
       "      <td>82.886937</td>\n",
       "      <td>19.062788</td>\n",
       "      <td>30.845225</td>\n",
       "    </tr>\n",
       "    <tr>\n",
       "      <th>1916</th>\n",
       "      <td>6.020771</td>\n",
       "      <td>61</td>\n",
       "      <td>53</td>\n",
       "      <td>130.000000</td>\n",
       "      <td>137.787906</td>\n",
       "      <td>15.031236</td>\n",
       "      <td>26.239439</td>\n",
       "    </tr>\n",
       "    <tr>\n",
       "      <th>1965</th>\n",
       "      <td>6.292806</td>\n",
       "      <td>57</td>\n",
       "      <td>50</td>\n",
       "      <td>100.000000</td>\n",
       "      <td>90.000000</td>\n",
       "      <td>15.510022</td>\n",
       "      <td>25.727783</td>\n",
       "    </tr>\n",
       "    <tr>\n",
       "      <th>1981</th>\n",
       "      <td>6.069106</td>\n",
       "      <td>57</td>\n",
       "      <td>50</td>\n",
       "      <td>100.000000</td>\n",
       "      <td>90.000000</td>\n",
       "      <td>14.711093</td>\n",
       "      <td>24.509416</td>\n",
       "    </tr>\n",
       "    <tr>\n",
       "      <th>2162</th>\n",
       "      <td>6.485412</td>\n",
       "      <td>56</td>\n",
       "      <td>50</td>\n",
       "      <td>100.000000</td>\n",
       "      <td>90.000000</td>\n",
       "      <td>16.197901</td>\n",
       "      <td>26.776799</td>\n",
       "    </tr>\n",
       "    <tr>\n",
       "      <th>2195</th>\n",
       "      <td>6.692713</td>\n",
       "      <td>56</td>\n",
       "      <td>51</td>\n",
       "      <td>99.214215</td>\n",
       "      <td>89.214215</td>\n",
       "      <td>17.227878</td>\n",
       "      <td>28.314314</td>\n",
       "    </tr>\n",
       "    <tr>\n",
       "      <th>2202</th>\n",
       "      <td>6.373360</td>\n",
       "      <td>56</td>\n",
       "      <td>50</td>\n",
       "      <td>100.000000</td>\n",
       "      <td>90.000000</td>\n",
       "      <td>16.330070</td>\n",
       "      <td>26.978356</td>\n",
       "    </tr>\n",
       "    <tr>\n",
       "      <th>2386</th>\n",
       "      <td>6.711872</td>\n",
       "      <td>60</td>\n",
       "      <td>53</td>\n",
       "      <td>131.821658</td>\n",
       "      <td>141.821658</td>\n",
       "      <td>16.836051</td>\n",
       "      <td>29.107388</td>\n",
       "    </tr>\n",
       "    <tr>\n",
       "      <th>2408</th>\n",
       "      <td>6.444101</td>\n",
       "      <td>59</td>\n",
       "      <td>50</td>\n",
       "      <td>90.256421</td>\n",
       "      <td>80.256421</td>\n",
       "      <td>19.723070</td>\n",
       "      <td>31.741015</td>\n",
       "    </tr>\n",
       "    <tr>\n",
       "      <th>2526</th>\n",
       "      <td>6.607655</td>\n",
       "      <td>57</td>\n",
       "      <td>51</td>\n",
       "      <td>95.347944</td>\n",
       "      <td>85.347944</td>\n",
       "      <td>18.349096</td>\n",
       "      <td>29.860822</td>\n",
       "    </tr>\n",
       "    <tr>\n",
       "      <th>2602</th>\n",
       "      <td>6.600299</td>\n",
       "      <td>56</td>\n",
       "      <td>51</td>\n",
       "      <td>100.000000</td>\n",
       "      <td>90.258119</td>\n",
       "      <td>16.925145</td>\n",
       "      <td>27.819317</td>\n",
       "    </tr>\n",
       "    <tr>\n",
       "      <th>2759</th>\n",
       "      <td>6.507686</td>\n",
       "      <td>61</td>\n",
       "      <td>52</td>\n",
       "      <td>131.534857</td>\n",
       "      <td>140.000000</td>\n",
       "      <td>16.386057</td>\n",
       "      <td>28.925600</td>\n",
       "    </tr>\n",
       "    <tr>\n",
       "      <th>2789</th>\n",
       "      <td>6.062408</td>\n",
       "      <td>59</td>\n",
       "      <td>50</td>\n",
       "      <td>87.611215</td>\n",
       "      <td>80.000000</td>\n",
       "      <td>20.162766</td>\n",
       "      <td>32.000000</td>\n",
       "    </tr>\n",
       "    <tr>\n",
       "      <th>2891</th>\n",
       "      <td>6.601994</td>\n",
       "      <td>55</td>\n",
       "      <td>50</td>\n",
       "      <td>100.000000</td>\n",
       "      <td>90.000000</td>\n",
       "      <td>16.766256</td>\n",
       "      <td>27.596992</td>\n",
       "    </tr>\n",
       "    <tr>\n",
       "      <th>2918</th>\n",
       "      <td>6.605210</td>\n",
       "      <td>56</td>\n",
       "      <td>50</td>\n",
       "      <td>100.000000</td>\n",
       "      <td>90.000000</td>\n",
       "      <td>16.625750</td>\n",
       "      <td>27.429268</td>\n",
       "    </tr>\n",
       "    <tr>\n",
       "      <th>3074</th>\n",
       "      <td>6.363397</td>\n",
       "      <td>60</td>\n",
       "      <td>53</td>\n",
       "      <td>133.238224</td>\n",
       "      <td>143.238224</td>\n",
       "      <td>16.708560</td>\n",
       "      <td>28.413270</td>\n",
       "    </tr>\n",
       "    <tr>\n",
       "      <th>3195</th>\n",
       "      <td>6.313512</td>\n",
       "      <td>59</td>\n",
       "      <td>50</td>\n",
       "      <td>91.960977</td>\n",
       "      <td>81.960977</td>\n",
       "      <td>18.546926</td>\n",
       "      <td>30.019413</td>\n",
       "    </tr>\n",
       "    <tr>\n",
       "      <th>3261</th>\n",
       "      <td>6.197627</td>\n",
       "      <td>56</td>\n",
       "      <td>51</td>\n",
       "      <td>100.000000</td>\n",
       "      <td>91.205584</td>\n",
       "      <td>16.650381</td>\n",
       "      <td>27.156091</td>\n",
       "    </tr>\n",
       "    <tr>\n",
       "      <th>3294</th>\n",
       "      <td>6.118228</td>\n",
       "      <td>56</td>\n",
       "      <td>49</td>\n",
       "      <td>94.111717</td>\n",
       "      <td>87.055859</td>\n",
       "      <td>18.177657</td>\n",
       "      <td>29.177657</td>\n",
       "    </tr>\n",
       "  </tbody>\n",
       "</table>\n",
       "</div>"
      ],
      "text/plain": [
       "          AWND  TMAX  TMIN        WDF2        WDF5       WSF2       WSF5\n",
       "31    6.040000    58    43  320.000000  340.000000  16.100000  32.000000\n",
       "105   6.710000    81    59  330.000000  330.000000  17.000000  29.100000\n",
       "387   6.710000    56    51  100.000000   90.000000  17.000000  28.000000\n",
       "413   7.160000    61    53  130.000000  140.000000  17.000000  30.000000\n",
       "482   6.040000    85    60  330.000000  330.000000  17.000000  34.000000\n",
       "483   8.050000    85    69  320.000000  330.000000  18.100000  32.000000\n",
       "832   6.710000    70    55  350.000000  300.000000  15.000000  28.000000\n",
       "1195  6.040000    77    59  270.000000  280.000000  14.100000  23.000000\n",
       "1452  6.490000    60    51   90.000000   80.000000  19.900000  32.000000\n",
       "1870  6.553513    58    51   92.886937   82.886937  19.062788  30.845225\n",
       "1916  6.020771    61    53  130.000000  137.787906  15.031236  26.239439\n",
       "1965  6.292806    57    50  100.000000   90.000000  15.510022  25.727783\n",
       "1981  6.069106    57    50  100.000000   90.000000  14.711093  24.509416\n",
       "2162  6.485412    56    50  100.000000   90.000000  16.197901  26.776799\n",
       "2195  6.692713    56    51   99.214215   89.214215  17.227878  28.314314\n",
       "2202  6.373360    56    50  100.000000   90.000000  16.330070  26.978356\n",
       "2386  6.711872    60    53  131.821658  141.821658  16.836051  29.107388\n",
       "2408  6.444101    59    50   90.256421   80.256421  19.723070  31.741015\n",
       "2526  6.607655    57    51   95.347944   85.347944  18.349096  29.860822\n",
       "2602  6.600299    56    51  100.000000   90.258119  16.925145  27.819317\n",
       "2759  6.507686    61    52  131.534857  140.000000  16.386057  28.925600\n",
       "2789  6.062408    59    50   87.611215   80.000000  20.162766  32.000000\n",
       "2891  6.601994    55    50  100.000000   90.000000  16.766256  27.596992\n",
       "2918  6.605210    56    50  100.000000   90.000000  16.625750  27.429268\n",
       "3074  6.363397    60    53  133.238224  143.238224  16.708560  28.413270\n",
       "3195  6.313512    59    50   91.960977   81.960977  18.546926  30.019413\n",
       "3261  6.197627    56    51  100.000000   91.205584  16.650381  27.156091\n",
       "3294  6.118228    56    49   94.111717   87.055859  18.177657  29.177657"
      ]
     },
     "execution_count": 50,
     "metadata": {},
     "output_type": "execute_result"
    }
   ],
   "source": [
    "x_res[x_res['AWND'] > 6]"
   ]
  },
  {
   "cell_type": "markdown",
   "id": "9c2c3cc8",
   "metadata": {},
   "source": [
    "<p> \n",
    "Remove the outlier above 6 because it is not in much quantity and it will not give much information so it's better to remove it.\n",
    "</p>"
   ]
  },
  {
   "cell_type": "code",
   "execution_count": 51,
   "id": "dd7254c4",
   "metadata": {},
   "outputs": [],
   "source": [
    "x_res = x_res[x_res['AWND'] < 6]"
   ]
  },
  {
   "cell_type": "code",
   "execution_count": 52,
   "id": "e1987733",
   "metadata": {},
   "outputs": [
    {
     "data": {
      "image/png": "[encoded data removed]",
      "text/plain": [
       "<Figure size 720x360 with 2 Axes>"
      ]
     },
     "metadata": {
      "needs_background": "light"
     },
     "output_type": "display_data"
    }
   ],
   "source": [
    "fig,ax = plt.subplots(1,2, figsize = (10,5))\n",
    "sns.boxplot(ax = ax[0], data = data, y = 'AWND')\n",
    "ax[0].set_title('Before class imbalance', fontweight ='bold', size = 15)\n",
    "\n",
    "sns.boxplot(ax = ax[1], data = x_res, y = 'AWND')\n",
    "ax[1].set_title('After class imbalance', fontweight ='bold', size = 15)\n",
    "\n",
    "plt.tight_layout() \n",
    "plt.show()"
   ]
  },
  {
   "cell_type": "markdown",
   "id": "c2afb7d3",
   "metadata": {},
   "source": [
    "**Column TMAX = Maximum temperature (tenths of degrees C)**"
   ]
  },
  {
   "cell_type": "code",
   "execution_count": 53,
   "id": "080bc861",
   "metadata": {},
   "outputs": [
    {
     "data": {
      "image/png": "[encoded data removed]",
      "text/plain": [
       "<Figure size 720x432 with 2 Axes>"
      ]
     },
     "metadata": {
      "needs_background": "light"
     },
     "output_type": "display_data"
    }
   ],
   "source": [
    "fig,ax = plt.subplots(1,2, figsize = (10,6))\n",
    "\n",
    "\n",
    "# before class imbalance\\\n",
    "sns.histplot(data['TMAX'], ax = ax[0])\n",
    "ax[0].set_title('Before class imbalance', fontweight = 'bold', size = 15)\n",
    "ax[0].set_xlabel('TMAX',fontsize = 15)\n",
    "\n",
    "sns.histplot(x_res['TMAX'], kde = True, ax = ax[1])\n",
    "ax[1].set_title('After class imbalance', fontweight = 'bold',size =15)\n",
    "ax[1].set_xlabel('TMAX',fontsize = 15)\n",
    "\n",
    "plt.tight_layout() \n",
    "plt.show()\n"
   ]
  },
  {
   "cell_type": "code",
   "execution_count": 54,
   "id": "90b8544c",
   "metadata": {},
   "outputs": [
    {
     "data": {
      "image/png": "[encoded data removed]",
      "text/plain": [
       "<Figure size 720x360 with 2 Axes>"
      ]
     },
     "metadata": {
      "needs_background": "light"
     },
     "output_type": "display_data"
    }
   ],
   "source": [
    "fig,ax = plt.subplots(1,2, figsize = (10,5))\n",
    "sns.boxplot(ax = ax[0], data = data, y = 'TMAX')\n",
    "ax[0].set_title('Before class imbalance', fontweight ='bold', size = 15)\n",
    "\n",
    "sns.boxplot(ax = ax[1], data = x_res, y = 'TMAX')\n",
    "ax[1].set_title('After class imbalance', fontweight ='bold', size = 15)\n",
    "\n",
    "plt.tight_layout() \n",
    "plt.show()"
   ]
  },
  {
   "cell_type": "code",
   "execution_count": 55,
   "id": "3b2f658f",
   "metadata": {},
   "outputs": [
    {
     "data": {
      "text/html": [
       "<div>\n",
       "<style scoped>\n",
       "    .dataframe tbody tr th:only-of-type {\n",
       "        vertical-align: middle;\n",
       "    }\n",
       "\n",
       "    .dataframe tbody tr th {\n",
       "        vertical-align: top;\n",
       "    }\n",
       "\n",
       "    .dataframe thead th {\n",
       "        text-align: right;\n",
       "    }\n",
       "</style>\n",
       "<table border=\"1\" class=\"dataframe\">\n",
       "  <thead>\n",
       "    <tr style=\"text-align: right;\">\n",
       "      <th></th>\n",
       "      <th>AWND</th>\n",
       "      <th>TMAX</th>\n",
       "      <th>TMIN</th>\n",
       "      <th>WDF2</th>\n",
       "      <th>WDF5</th>\n",
       "      <th>WSF2</th>\n",
       "      <th>WSF5</th>\n",
       "    </tr>\n",
       "  </thead>\n",
       "  <tbody>\n",
       "    <tr>\n",
       "      <th>171</th>\n",
       "      <td>2.01</td>\n",
       "      <td>101</td>\n",
       "      <td>71</td>\n",
       "      <td>280.0</td>\n",
       "      <td>260.0</td>\n",
       "      <td>8.9</td>\n",
       "      <td>14.1</td>\n",
       "    </tr>\n",
       "    <tr>\n",
       "      <th>269</th>\n",
       "      <td>2.46</td>\n",
       "      <td>104</td>\n",
       "      <td>69</td>\n",
       "      <td>270.0</td>\n",
       "      <td>280.0</td>\n",
       "      <td>12.1</td>\n",
       "      <td>17.0</td>\n",
       "    </tr>\n",
       "    <tr>\n",
       "      <th>608</th>\n",
       "      <td>2.01</td>\n",
       "      <td>102</td>\n",
       "      <td>74</td>\n",
       "      <td>140.0</td>\n",
       "      <td>150.0</td>\n",
       "      <td>8.1</td>\n",
       "      <td>13.0</td>\n",
       "    </tr>\n",
       "    <tr>\n",
       "      <th>609</th>\n",
       "      <td>2.01</td>\n",
       "      <td>102</td>\n",
       "      <td>76</td>\n",
       "      <td>270.0</td>\n",
       "      <td>260.0</td>\n",
       "      <td>10.1</td>\n",
       "      <td>17.0</td>\n",
       "    </tr>\n",
       "    <tr>\n",
       "      <th>610</th>\n",
       "      <td>1.34</td>\n",
       "      <td>100</td>\n",
       "      <td>78</td>\n",
       "      <td>170.0</td>\n",
       "      <td>140.0</td>\n",
       "      <td>6.9</td>\n",
       "      <td>11.0</td>\n",
       "    </tr>\n",
       "    <tr>\n",
       "      <th>661</th>\n",
       "      <td>1.12</td>\n",
       "      <td>102</td>\n",
       "      <td>67</td>\n",
       "      <td>270.0</td>\n",
       "      <td>270.0</td>\n",
       "      <td>8.1</td>\n",
       "      <td>11.0</td>\n",
       "    </tr>\n",
       "    <tr>\n",
       "      <th>662</th>\n",
       "      <td>0.45</td>\n",
       "      <td>104</td>\n",
       "      <td>68</td>\n",
       "      <td>270.0</td>\n",
       "      <td>270.0</td>\n",
       "      <td>6.9</td>\n",
       "      <td>11.0</td>\n",
       "    </tr>\n",
       "    <tr>\n",
       "      <th>663</th>\n",
       "      <td>0.89</td>\n",
       "      <td>100</td>\n",
       "      <td>69</td>\n",
       "      <td>280.0</td>\n",
       "      <td>260.0</td>\n",
       "      <td>8.1</td>\n",
       "      <td>13.0</td>\n",
       "    </tr>\n",
       "    <tr>\n",
       "      <th>917</th>\n",
       "      <td>2.46</td>\n",
       "      <td>108</td>\n",
       "      <td>69</td>\n",
       "      <td>270.0</td>\n",
       "      <td>270.0</td>\n",
       "      <td>10.1</td>\n",
       "      <td>18.1</td>\n",
       "    </tr>\n",
       "    <tr>\n",
       "      <th>918</th>\n",
       "      <td>1.79</td>\n",
       "      <td>104</td>\n",
       "      <td>79</td>\n",
       "      <td>140.0</td>\n",
       "      <td>140.0</td>\n",
       "      <td>8.9</td>\n",
       "      <td>15.0</td>\n",
       "    </tr>\n",
       "    <tr>\n",
       "      <th>1710</th>\n",
       "      <td>1.12</td>\n",
       "      <td>111</td>\n",
       "      <td>77</td>\n",
       "      <td>260.0</td>\n",
       "      <td>270.0</td>\n",
       "      <td>8.9</td>\n",
       "      <td>14.1</td>\n",
       "    </tr>\n",
       "    <tr>\n",
       "      <th>1734</th>\n",
       "      <td>1.12</td>\n",
       "      <td>103</td>\n",
       "      <td>68</td>\n",
       "      <td>270.0</td>\n",
       "      <td>270.0</td>\n",
       "      <td>8.9</td>\n",
       "      <td>14.1</td>\n",
       "    </tr>\n",
       "    <tr>\n",
       "      <th>1735</th>\n",
       "      <td>0.89</td>\n",
       "      <td>101</td>\n",
       "      <td>68</td>\n",
       "      <td>270.0</td>\n",
       "      <td>260.0</td>\n",
       "      <td>8.9</td>\n",
       "      <td>14.1</td>\n",
       "    </tr>\n",
       "  </tbody>\n",
       "</table>\n",
       "</div>"
      ],
      "text/plain": [
       "      AWND  TMAX  TMIN   WDF2   WDF5  WSF2  WSF5\n",
       "171   2.01   101    71  280.0  260.0   8.9  14.1\n",
       "269   2.46   104    69  270.0  280.0  12.1  17.0\n",
       "608   2.01   102    74  140.0  150.0   8.1  13.0\n",
       "609   2.01   102    76  270.0  260.0  10.1  17.0\n",
       "610   1.34   100    78  170.0  140.0   6.9  11.0\n",
       "661   1.12   102    67  270.0  270.0   8.1  11.0\n",
       "662   0.45   104    68  270.0  270.0   6.9  11.0\n",
       "663   0.89   100    69  280.0  260.0   8.1  13.0\n",
       "917   2.46   108    69  270.0  270.0  10.1  18.1\n",
       "918   1.79   104    79  140.0  140.0   8.9  15.0\n",
       "1710  1.12   111    77  260.0  270.0   8.9  14.1\n",
       "1734  1.12   103    68  270.0  270.0   8.9  14.1\n",
       "1735  0.89   101    68  270.0  260.0   8.9  14.1"
      ]
     },
     "execution_count": 55,
     "metadata": {},
     "output_type": "execute_result"
    }
   ],
   "source": [
    "Q1 = np.quantile(x_res['TMAX'], 0.25)\n",
    "Q3 = np.quantile(x_res['TMAX'], 0.75)\n",
    "IQR = Q3 -Q1\n",
    "lower = Q1 - 1.5*IQR\n",
    "upper = Q3 + 1.5*IQR\n",
    "x_res[x_res['TMAX'] > upper]"
   ]
  },
  {
   "cell_type": "markdown",
   "id": "80fa0e9c",
   "metadata": {},
   "source": [
    "<p> \n",
    "Remove the outlier it is not in much quantity and it will not give much information so it's better to remove it.\n",
    "</p>"
   ]
  },
  {
   "cell_type": "code",
   "execution_count": 56,
   "id": "1202085b",
   "metadata": {},
   "outputs": [],
   "source": [
    "x_res = x_res[x_res['TMAX'] <upper]"
   ]
  },
  {
   "cell_type": "code",
   "execution_count": 57,
   "id": "258c6c0b",
   "metadata": {},
   "outputs": [
    {
     "data": {
      "image/png": "[encoded data removed]",
      "text/plain": [
       "<Figure size 720x360 with 2 Axes>"
      ]
     },
     "metadata": {
      "needs_background": "light"
     },
     "output_type": "display_data"
    }
   ],
   "source": [
    "fig,ax = plt.subplots(1,2, figsize = (10,5))\n",
    "sns.boxplot(ax = ax[0], data = data, y = 'TMAX')\n",
    "ax[0].set_title('Before class imbalance', fontweight ='bold', size = 15)\n",
    "\n",
    "sns.boxplot(ax = ax[1], data = x_res, y = 'TMAX')\n",
    "ax[1].set_title('After class imbalance', fontweight ='bold', size = 15)\n",
    "\n",
    "plt.tight_layout() \n",
    "plt.show()"
   ]
  },
  {
   "cell_type": "markdown",
   "id": "2b85900b",
   "metadata": {},
   "source": [
    "**Column TMIN = Minimum temperature (tenths of degrees C)**"
   ]
  },
  {
   "cell_type": "code",
   "execution_count": 58,
   "id": "59e12322",
   "metadata": {},
   "outputs": [
    {
     "data": {
      "image/png": "[encoded data removed]",
      "text/plain": [
       "<Figure size 720x432 with 2 Axes>"
      ]
     },
     "metadata": {
      "needs_background": "light"
     },
     "output_type": "display_data"
    }
   ],
   "source": [
    "fig,ax = plt.subplots(1,2, figsize = (10,6))\n",
    "\n",
    "\n",
    "# before class imbalance\\\n",
    "sns.histplot(data['TMIN'], ax = ax[0])\n",
    "ax[0].set_title('Before class imbalance', fontweight = 'bold', size = 15)\n",
    "ax[0].set_xlabel('TMIN',fontsize = 15)\n",
    "\n",
    "sns.histplot(x_res['TMIN'], kde = True, ax = ax[1])\n",
    "ax[1].set_title('After class imbalance', fontweight = 'bold',size =15)\n",
    "ax[1].set_xlabel('TMIN',fontsize = 15)\n",
    "\n",
    "plt.tight_layout() \n",
    "plt.show()\n"
   ]
  },
  {
   "cell_type": "code",
   "execution_count": 59,
   "id": "00d05d4b",
   "metadata": {},
   "outputs": [
    {
     "data": {
      "image/png": "[encoded data removed]",
      "text/plain": [
       "<Figure size 720x360 with 2 Axes>"
      ]
     },
     "metadata": {
      "needs_background": "light"
     },
     "output_type": "display_data"
    }
   ],
   "source": [
    "fig,ax = plt.subplots(1,2, figsize = (10,5))\n",
    "sns.boxplot(ax = ax[0], data = data, y = 'TMIN')\n",
    "ax[0].set_title('Before class imbalance', fontweight ='bold', size = 15)\n",
    "\n",
    "sns.boxplot(ax = ax[1], data = x_res, y = 'TMIN')\n",
    "ax[1].set_title('After class imbalance', fontweight ='bold', size = 15)\n",
    "\n",
    "plt.tight_layout() \n",
    "plt.show()"
   ]
  },
  {
   "cell_type": "code",
   "execution_count": 60,
   "id": "3bcc3487",
   "metadata": {},
   "outputs": [
    {
     "name": "stdout",
     "output_type": "stream",
     "text": [
      "UPPER       AWND  TMAX  TMIN   WDF2   WDF5  WSF2  WSF5\n",
      "579   1.79    93    74  270.0  280.0   8.9  12.1\n",
      "580   1.79    92    74  280.0  270.0  12.1  17.0\n",
      "612   0.67    85    73  270.0  270.0  10.1  17.0\n",
      "919   1.12    98    75  260.0  270.0   8.1  15.0\n",
      "920   1.12    96    74  270.0  280.0   8.1  13.0\n",
      "921   1.12    91    73  280.0  270.0   8.9  14.1\n",
      "952   1.79    93    73  270.0  270.0  10.1  15.0\n",
      "953   2.46    90    73  280.0  270.0  12.1  21.9\n",
      "1343  1.12    94    73  260.0  270.0  10.1  16.1\n",
      "1344  2.24    93    73  270.0  270.0  10.1  15.0\n",
      "1688  0.89    98    73  170.0  260.0   6.9  13.0\n",
      "1689  1.57    95    73  130.0  130.0   8.1  12.1\n",
      "1692  1.34    94    75  260.0  260.0   8.9  16.1\n",
      "1693  1.79    94    73  260.0  260.0   8.9  15.0\n",
      "1694  1.57    91    73  270.0  270.0   6.9  12.1\n",
      "1695  1.57    96    73  270.0  260.0   8.9  15.0\n",
      "1696  1.79    91    73  260.0  270.0   8.9  15.0\n",
      "LOWER       AWND  TMAX  TMIN   WDF2   WDF5  WSF2  WSF5\n",
      "1093  0.67    62    39  280.0  280.0   6.9  11.0\n",
      "1096  1.12    62    38  340.0  340.0   8.9  18.1\n",
      "1097  1.12    63    38  270.0  290.0   6.9  11.0\n"
     ]
    }
   ],
   "source": [
    "Q1 = np.quantile(x_res['TMIN'], 0.25)\n",
    "Q3 = np.quantile(x_res['TMIN'], 0.75)\n",
    "IQR = Q3 -Q1\n",
    "lower = Q1 - 1.5*IQR\n",
    "upper = Q3 + 1.5*IQR\n",
    "print('UPPER' ,x_res[x_res['TMIN'] > upper])\n",
    "print('LOWER' ,x_res[x_res['TMIN'] < lower])"
   ]
  },
  {
   "cell_type": "markdown",
   "id": "02140496",
   "metadata": {},
   "source": [
    "<p>\n",
    "Remove lower and upper outliers \n",
    "<p/>"
   ]
  },
  {
   "cell_type": "code",
   "execution_count": 61,
   "id": "6eb36062",
   "metadata": {},
   "outputs": [],
   "source": [
    "x_res = x_res[x_res['TMIN'] > lower]\n",
    "x_res = x_res[x_res['TMIN'] < upper]"
   ]
  },
  {
   "cell_type": "code",
   "execution_count": 62,
   "id": "aba18c21",
   "metadata": {},
   "outputs": [
    {
     "data": {
      "image/png": "[encoded data removed]",
      "text/plain": [
       "<Figure size 720x360 with 2 Axes>"
      ]
     },
     "metadata": {
      "needs_background": "light"
     },
     "output_type": "display_data"
    }
   ],
   "source": [
    "fig,ax = plt.subplots(1,2, figsize = (10,5))\n",
    "sns.boxplot(ax = ax[0], data = data, y = 'TMIN')\n",
    "ax[0].set_title('Before class imbalance', fontweight ='bold', size = 15)\n",
    "\n",
    "sns.boxplot(ax = ax[1], data = x_res, y = 'TMIN')\n",
    "ax[1].set_title('After class imbalance', fontweight ='bold', size = 15)\n",
    "\n",
    "plt.tight_layout() \n",
    "plt.show()"
   ]
  },
  {
   "cell_type": "markdown",
   "id": "fa05762f",
   "metadata": {},
   "source": [
    "***Column WDF2 = Direction of fastest 2-minute wind (degrees)***"
   ]
  },
  {
   "cell_type": "code",
   "execution_count": 63,
   "id": "c0107e08",
   "metadata": {},
   "outputs": [
    {
     "data": {
      "image/png": "[encoded data removed]",
      "text/plain": [
       "<Figure size 720x432 with 2 Axes>"
      ]
     },
     "metadata": {
      "needs_background": "light"
     },
     "output_type": "display_data"
    }
   ],
   "source": [
    "fig,ax = plt.subplots(1,2, figsize = (10,6))\n",
    "\n",
    "\n",
    "# before class imbalance\\\n",
    "sns.histplot(data['WDF2'], ax = ax[0])\n",
    "ax[0].set_title('Before class imbalance', fontweight = 'bold', size = 15)\n",
    "ax[0].set_xlabel('WDF2',fontsize = 15)\n",
    "\n",
    "sns.histplot(x_res['WDF2'], kde = True, ax = ax[1])\n",
    "ax[1].set_title('After class imbalance', fontweight = 'bold',size =15)\n",
    "ax[1].set_xlabel('WDF2',fontsize = 15)\n",
    "\n",
    "plt.tight_layout() \n",
    "plt.show()\n",
    "\n"
   ]
  },
  {
   "cell_type": "code",
   "execution_count": 64,
   "id": "4e12a69a",
   "metadata": {},
   "outputs": [
    {
     "data": {
      "image/png": "[encoded data removed]",
      "text/plain": [
       "<Figure size 720x360 with 2 Axes>"
      ]
     },
     "metadata": {
      "needs_background": "light"
     },
     "output_type": "display_data"
    }
   ],
   "source": [
    "fig,ax = plt.subplots(1,2, figsize = (10,5))\n",
    "sns.boxplot(ax = ax[0], data = data, y = 'WDF2')\n",
    "ax[0].set_title('Before class imbalance', fontweight ='bold', size = 15)\n",
    "\n",
    "sns.boxplot(ax = ax[1], data = x_res, y = 'WDF2')\n",
    "ax[1].set_title('After class imbalance', fontweight ='bold', size = 15)\n",
    "\n",
    "plt.tight_layout() \n",
    "plt.show()"
   ]
  },
  {
   "cell_type": "markdown",
   "id": "27660ead",
   "metadata": {},
   "source": [
    "***Column WDF5 = Direction of fastest 5-minute wind (degrees)***"
   ]
  },
  {
   "cell_type": "code",
   "execution_count": 65,
   "id": "dbd18409",
   "metadata": {},
   "outputs": [
    {
     "data": {
      "image/png": "[encoded data removed]",
      "text/plain": [
       "<Figure size 720x432 with 2 Axes>"
      ]
     },
     "metadata": {
      "needs_background": "light"
     },
     "output_type": "display_data"
    }
   ],
   "source": [
    "fig,ax = plt.subplots(1,2, figsize = (10,6))\n",
    "\n",
    "\n",
    "# before class imbalance\\\n",
    "sns.histplot(data['WDF5'], ax = ax[0])\n",
    "ax[0].set_title('Before class imbalance', fontweight = 'bold', size = 15)\n",
    "ax[0].set_xlabel('WDF5',fontsize = 15)\n",
    "\n",
    "sns.histplot(x_res['WDF5'], kde = True, ax = ax[1])\n",
    "ax[1].set_title('After class imbalance', fontweight = 'bold',size =15)\n",
    "ax[1].set_xlabel('WDF5',fontsize = 15)\n",
    "\n",
    "plt.tight_layout() \n",
    "plt.show()\n",
    "\n"
   ]
  },
  {
   "cell_type": "code",
   "execution_count": 66,
   "id": "7960e586",
   "metadata": {},
   "outputs": [
    {
     "data": {
      "image/png": "[encoded data removed]",
      "text/plain": [
       "<Figure size 720x360 with 2 Axes>"
      ]
     },
     "metadata": {
      "needs_background": "light"
     },
     "output_type": "display_data"
    }
   ],
   "source": [
    "fig,ax = plt.subplots(1,2, figsize = (10,5))\n",
    "sns.boxplot(ax = ax[0], data = data, y = 'WDF5')\n",
    "ax[0].set_title('Before class imbalance', fontweight ='bold', size = 15)\n",
    "\n",
    "sns.boxplot(ax = ax[1], data = x_res, y = 'WDF5')\n",
    "ax[1].set_title('After class imbalance', fontweight ='bold', size = 15)\n",
    "\n",
    "plt.tight_layout() \n",
    "plt.show()"
   ]
  },
  {
   "cell_type": "code",
   "execution_count": 67,
   "id": "4b9dc430",
   "metadata": {},
   "outputs": [
    {
     "name": "stdout",
     "output_type": "stream",
     "text": [
      "UPPER:-            AWND  TMAX  TMIN        WDF2        WDF5       WSF2       WSF5\n",
      "5     2.910000    58    46   80.000000  290.000000  12.100000  17.000000\n",
      "7     2.240000    62    44  280.000000  340.000000   8.100000  16.100000\n",
      "22    1.120000    64    54  350.000000  360.000000   8.900000  15.000000\n",
      "73    1.790000    70    58  280.000000  310.000000   8.900000  14.100000\n",
      "81    5.590000    71    53  310.000000  310.000000  16.100000  25.900000\n",
      "...        ...   ...   ...         ...         ...        ...        ...\n",
      "3206  2.776628    61    48  350.000000  341.974143   9.136897  16.277673\n",
      "3241  2.442928    62    50  350.000000  343.838389   9.360607  16.445455\n",
      "3249  2.637344    60    47   38.381703  328.070584  11.545438  18.871372\n",
      "3278  1.426468    69    55  301.525502  298.450430   8.346006  13.330029\n",
      "3292  2.632629    62    51  330.306206  328.864827  11.478193  18.438910\n",
      "\n",
      "[140 rows x 7 columns]\n",
      "LOWER:-            AWND  TMAX  TMIN        WDF2   WDF5       WSF2       WSF5\n",
      "0     2.460000    64    43   10.000000   30.0   8.100000  11.000000\n",
      "1     2.010000    65    47  270.000000   30.0   6.000000   8.900000\n",
      "2     0.670000    62    44  150.000000  150.0  10.100000  14.100000\n",
      "4     2.460000    59    49  140.000000  140.0  10.100000  16.100000\n",
      "6     1.790000    59    45   20.000000   10.0  10.100000  18.100000\n",
      "...        ...   ...   ...         ...    ...        ...        ...\n",
      "3311  5.492384    57    50  100.000000   90.0  14.576883  24.304747\n",
      "3313  5.152036    58    51  107.821074  110.0  12.368112  21.268112\n",
      "3314  4.040648    60    53  100.000000  110.0  12.950947  18.952144\n",
      "3317  2.554170    60    53  100.000000  100.0  13.537788  20.030185\n",
      "3319  4.895492    63    52   90.275367  110.0  16.014636  23.765070\n",
      "\n",
      "[778 rows x 7 columns]\n"
     ]
    }
   ],
   "source": [
    "Q1 = np.quantile(x_res['WDF5'], 0.25)\n",
    "Q3 = np.quantile(x_res['WDF5'], 0.75)\n",
    "IQR = Q3 -Q1\n",
    "lower = Q1 - 1.5*IQR\n",
    "upper = Q3 + 1.5*IQR\n",
    "print('UPPER:- ' ,x_res[x_res['WDF5'] > upper])\n",
    "print('LOWER:- ' ,x_res[x_res['WDF5'] < lower])"
   ]
  },
  {
   "cell_type": "markdown",
   "id": "bd9dda37",
   "metadata": {},
   "source": [
    "**Column WSF2 = Fastest 2-minute wind speed (tenths of meters per second)**"
   ]
  },
  {
   "cell_type": "code",
   "execution_count": 68,
   "id": "66f9b16b",
   "metadata": {},
   "outputs": [
    {
     "data": {
      "image/png": "[encoded data removed]",
      "text/plain": [
       "<Figure size 720x432 with 2 Axes>"
      ]
     },
     "metadata": {
      "needs_background": "light"
     },
     "output_type": "display_data"
    }
   ],
   "source": [
    "fig,ax = plt.subplots(1,2, figsize = (10,6))\n",
    "\n",
    "\n",
    "# before class imbalance\\\n",
    "sns.histplot(data['WSF2'], ax = ax[0])\n",
    "ax[0].set_title('Before class imbalance', fontweight = 'bold', size = 15)\n",
    "ax[0].set_xlabel('WSF2',fontsize = 15)\n",
    "\n",
    "sns.histplot(x_res['WSF2'], kde = True, ax = ax[1])\n",
    "ax[1].set_title('After class imbalance', fontweight = 'bold',size =15)\n",
    "ax[1].set_xlabel('WSF2',fontsize = 15)\n",
    "\n",
    "plt.tight_layout() \n",
    "plt.show()\n"
   ]
  },
  {
   "cell_type": "code",
   "execution_count": 69,
   "id": "0bae0dcb",
   "metadata": {},
   "outputs": [
    {
     "data": {
      "image/png": "[encoded data removed]",
      "text/plain": [
       "<Figure size 720x360 with 2 Axes>"
      ]
     },
     "metadata": {
      "needs_background": "light"
     },
     "output_type": "display_data"
    }
   ],
   "source": [
    "fig,ax = plt.subplots(1,2, figsize = (10,5))\n",
    "sns.boxplot(ax = ax[0], data = data, y = 'WSF2')\n",
    "ax[0].set_title('Before class imbalance', fontweight ='bold', size = 15)\n",
    "\n",
    "sns.boxplot(ax = ax[1], data = x_res, y = 'WSF2')\n",
    "ax[1].set_title('After class imbalance', fontweight ='bold', size = 15)\n",
    "\n",
    "plt.tight_layout() \n",
    "plt.show()"
   ]
  },
  {
   "cell_type": "code",
   "execution_count": 70,
   "id": "6abd44ac",
   "metadata": {},
   "outputs": [
    {
     "name": "stdout",
     "output_type": "stream",
     "text": [
      "          AWND  TMAX  TMIN        WDF2        WDF5       WSF2       WSF5\n",
      "30    4.470000    59    50  270.000000  280.000000  16.100000  32.000000\n",
      "65    4.700000    67    54  270.000000  270.000000  16.100000  34.000000\n",
      "66    3.360000    61    47  270.000000  260.000000  14.100000  25.900000\n",
      "81    5.590000    71    53  310.000000  310.000000  16.100000  25.900000\n",
      "88    3.130000    64    48  270.000000  260.000000  14.100000  25.900000\n",
      "...        ...   ...   ...         ...         ...        ...        ...\n",
      "3281  4.242562    69    57   82.753812   82.753812  14.201395  20.853552\n",
      "3299  4.380589    59    52  140.000000  148.574059  15.244435  23.816653\n",
      "3311  5.492384    57    50  100.000000   90.000000  14.576883  24.304747\n",
      "3312  3.883310    66    54  270.000000  270.000000  14.969759  31.812438\n",
      "3319  4.895492    63    52   90.275367  110.000000  16.014636  23.765070\n",
      "\n",
      "[203 rows x 7 columns]\n",
      "      AWND  TMAX  TMIN   WDF2   WDF5  WSF2  WSF5\n",
      "514   0.89    73    60  280.0  270.0   2.9  14.1\n",
      "742   0.00    72    50  360.0  260.0   2.9   8.1\n",
      "1430  0.22    65    52  360.0  360.0   4.0   8.1\n",
      "1802  0.00    76    46  280.0   50.0   2.9   6.0\n"
     ]
    }
   ],
   "source": [
    "Q1 = np.quantile(x_res['WSF2'], 0.25)\n",
    "Q3 = np.quantile(x_res['WSF2'], 0.75)\n",
    "IQR = Q3 -Q1\n",
    "lower = Q1 - 1.5*IQR\n",
    "upper = Q3 + 1.5*IQR\n",
    "print(x_res[x_res['WSF2'] > upper])\n",
    "print(x_res[x_res['WSF2'] < lower])"
   ]
  },
  {
   "cell_type": "code",
   "execution_count": 71,
   "id": "1f840111",
   "metadata": {},
   "outputs": [
    {
     "data": {
      "text/html": [
       "<div>\n",
       "<style scoped>\n",
       "    .dataframe tbody tr th:only-of-type {\n",
       "        vertical-align: middle;\n",
       "    }\n",
       "\n",
       "    .dataframe tbody tr th {\n",
       "        vertical-align: top;\n",
       "    }\n",
       "\n",
       "    .dataframe thead th {\n",
       "        text-align: right;\n",
       "    }\n",
       "</style>\n",
       "<table border=\"1\" class=\"dataframe\">\n",
       "  <thead>\n",
       "    <tr style=\"text-align: right;\">\n",
       "      <th></th>\n",
       "      <th>AWND</th>\n",
       "      <th>TMAX</th>\n",
       "      <th>TMIN</th>\n",
       "      <th>WDF2</th>\n",
       "      <th>WDF5</th>\n",
       "      <th>WSF2</th>\n",
       "      <th>WSF5</th>\n",
       "    </tr>\n",
       "  </thead>\n",
       "  <tbody>\n",
       "    <tr>\n",
       "      <th>419</th>\n",
       "      <td>5.140000</td>\n",
       "      <td>62</td>\n",
       "      <td>49</td>\n",
       "      <td>270.000000</td>\n",
       "      <td>280.000000</td>\n",
       "      <td>17.000000</td>\n",
       "      <td>27.100000</td>\n",
       "    </tr>\n",
       "    <tr>\n",
       "      <th>836</th>\n",
       "      <td>3.130000</td>\n",
       "      <td>65</td>\n",
       "      <td>52</td>\n",
       "      <td>260.000000</td>\n",
       "      <td>270.000000</td>\n",
       "      <td>17.000000</td>\n",
       "      <td>32.000000</td>\n",
       "    </tr>\n",
       "    <tr>\n",
       "      <th>1143</th>\n",
       "      <td>3.360000</td>\n",
       "      <td>58</td>\n",
       "      <td>44</td>\n",
       "      <td>270.000000</td>\n",
       "      <td>260.000000</td>\n",
       "      <td>17.000000</td>\n",
       "      <td>30.000000</td>\n",
       "    </tr>\n",
       "    <tr>\n",
       "      <th>1194</th>\n",
       "      <td>4.700000</td>\n",
       "      <td>80</td>\n",
       "      <td>62</td>\n",
       "      <td>340.000000</td>\n",
       "      <td>360.000000</td>\n",
       "      <td>18.100000</td>\n",
       "      <td>34.000000</td>\n",
       "    </tr>\n",
       "    <tr>\n",
       "      <th>1455</th>\n",
       "      <td>4.700000</td>\n",
       "      <td>56</td>\n",
       "      <td>47</td>\n",
       "      <td>80.000000</td>\n",
       "      <td>80.000000</td>\n",
       "      <td>21.000000</td>\n",
       "      <td>32.000000</td>\n",
       "    </tr>\n",
       "    <tr>\n",
       "      <th>1494</th>\n",
       "      <td>5.820000</td>\n",
       "      <td>63</td>\n",
       "      <td>48</td>\n",
       "      <td>340.000000</td>\n",
       "      <td>330.000000</td>\n",
       "      <td>19.900000</td>\n",
       "      <td>34.000000</td>\n",
       "    </tr>\n",
       "    <tr>\n",
       "      <th>1867</th>\n",
       "      <td>5.912336</td>\n",
       "      <td>56</td>\n",
       "      <td>49</td>\n",
       "      <td>92.063042</td>\n",
       "      <td>86.031521</td>\n",
       "      <td>18.587392</td>\n",
       "      <td>29.587392</td>\n",
       "    </tr>\n",
       "    <tr>\n",
       "      <th>2070</th>\n",
       "      <td>4.880051</td>\n",
       "      <td>56</td>\n",
       "      <td>47</td>\n",
       "      <td>80.000000</td>\n",
       "      <td>81.607599</td>\n",
       "      <td>19.247717</td>\n",
       "      <td>29.267082</td>\n",
       "    </tr>\n",
       "    <tr>\n",
       "      <th>2187</th>\n",
       "      <td>5.387130</td>\n",
       "      <td>64</td>\n",
       "      <td>56</td>\n",
       "      <td>82.975350</td>\n",
       "      <td>80.000000</td>\n",
       "      <td>16.457922</td>\n",
       "      <td>24.905104</td>\n",
       "    </tr>\n",
       "    <tr>\n",
       "      <th>2235</th>\n",
       "      <td>5.701373</td>\n",
       "      <td>56</td>\n",
       "      <td>48</td>\n",
       "      <td>89.963914</td>\n",
       "      <td>84.981957</td>\n",
       "      <td>19.007217</td>\n",
       "      <td>30.007217</td>\n",
       "    </tr>\n",
       "    <tr>\n",
       "      <th>2249</th>\n",
       "      <td>5.188367</td>\n",
       "      <td>57</td>\n",
       "      <td>48</td>\n",
       "      <td>82.728309</td>\n",
       "      <td>80.000000</td>\n",
       "      <td>20.699886</td>\n",
       "      <td>32.000000</td>\n",
       "    </tr>\n",
       "    <tr>\n",
       "      <th>2365</th>\n",
       "      <td>4.844955</td>\n",
       "      <td>63</td>\n",
       "      <td>54</td>\n",
       "      <td>80.000000</td>\n",
       "      <td>80.000000</td>\n",
       "      <td>17.046687</td>\n",
       "      <td>25.345257</td>\n",
       "    </tr>\n",
       "    <tr>\n",
       "      <th>2853</th>\n",
       "      <td>4.865147</td>\n",
       "      <td>56</td>\n",
       "      <td>47</td>\n",
       "      <td>80.000000</td>\n",
       "      <td>81.474525</td>\n",
       "      <td>19.392767</td>\n",
       "      <td>29.493307</td>\n",
       "    </tr>\n",
       "    <tr>\n",
       "      <th>3083</th>\n",
       "      <td>5.850759</td>\n",
       "      <td>58</td>\n",
       "      <td>49</td>\n",
       "      <td>86.428819</td>\n",
       "      <td>80.000000</td>\n",
       "      <td>20.292830</td>\n",
       "      <td>32.000000</td>\n",
       "    </tr>\n",
       "  </tbody>\n",
       "</table>\n",
       "</div>"
      ],
      "text/plain": [
       "          AWND  TMAX  TMIN        WDF2        WDF5       WSF2       WSF5\n",
       "419   5.140000    62    49  270.000000  280.000000  17.000000  27.100000\n",
       "836   3.130000    65    52  260.000000  270.000000  17.000000  32.000000\n",
       "1143  3.360000    58    44  270.000000  260.000000  17.000000  30.000000\n",
       "1194  4.700000    80    62  340.000000  360.000000  18.100000  34.000000\n",
       "1455  4.700000    56    47   80.000000   80.000000  21.000000  32.000000\n",
       "1494  5.820000    63    48  340.000000  330.000000  19.900000  34.000000\n",
       "1867  5.912336    56    49   92.063042   86.031521  18.587392  29.587392\n",
       "2070  4.880051    56    47   80.000000   81.607599  19.247717  29.267082\n",
       "2187  5.387130    64    56   82.975350   80.000000  16.457922  24.905104\n",
       "2235  5.701373    56    48   89.963914   84.981957  19.007217  30.007217\n",
       "2249  5.188367    57    48   82.728309   80.000000  20.699886  32.000000\n",
       "2365  4.844955    63    54   80.000000   80.000000  17.046687  25.345257\n",
       "2853  4.865147    56    47   80.000000   81.474525  19.392767  29.493307\n",
       "3083  5.850759    58    49   86.428819   80.000000  20.292830  32.000000"
      ]
     },
     "execution_count": 71,
     "metadata": {},
     "output_type": "execute_result"
    }
   ],
   "source": [
    "x_res[x_res['WSF2'] > 16.1]"
   ]
  },
  {
   "cell_type": "markdown",
   "id": "5e1151ea",
   "metadata": {},
   "source": [
    "<P> \n",
    "Remove the lower outliers and upper outlier after 17\n",
    "<p/>"
   ]
  },
  {
   "cell_type": "code",
   "execution_count": 72,
   "id": "26155aae",
   "metadata": {},
   "outputs": [],
   "source": [
    "x_res = x_res[x_res['WSF2'] < 16.1]"
   ]
  },
  {
   "cell_type": "code",
   "execution_count": 73,
   "id": "8f5ed4ff",
   "metadata": {},
   "outputs": [],
   "source": [
    "x_res = x_res[x_res['WSF2'] > lower]"
   ]
  },
  {
   "cell_type": "code",
   "execution_count": 74,
   "id": "2d5e0ad1",
   "metadata": {},
   "outputs": [
    {
     "data": {
      "image/png": "[encoded data removed]",
      "text/plain": [
       "<Figure size 720x360 with 2 Axes>"
      ]
     },
     "metadata": {
      "needs_background": "light"
     },
     "output_type": "display_data"
    }
   ],
   "source": [
    "fig,ax = plt.subplots(1,2, figsize = (10,5))\n",
    "sns.boxplot(ax = ax[0], data = data, y = 'WSF2')\n",
    "ax[0].set_title('Before class imbalance', fontweight ='bold', size = 15)\n",
    "\n",
    "sns.boxplot(ax = ax[1], data = x_res, y = 'WSF2')\n",
    "ax[1].set_title('After class imbalance', fontweight ='bold', size = 15)\n",
    "\n",
    "plt.tight_layout() \n",
    "plt.show()"
   ]
  },
  {
   "cell_type": "markdown",
   "id": "80fe9229",
   "metadata": {},
   "source": [
    "**WSF5= Fastest 5-minute wind speed (tenths of meters per second)**"
   ]
  },
  {
   "cell_type": "code",
   "execution_count": 75,
   "id": "c2778811",
   "metadata": {},
   "outputs": [
    {
     "data": {
      "image/png": "[encoded data removed]",
      "text/plain": [
       "<Figure size 720x432 with 2 Axes>"
      ]
     },
     "metadata": {
      "needs_background": "light"
     },
     "output_type": "display_data"
    }
   ],
   "source": [
    "fig,ax = plt.subplots(1,2, figsize = (10,6))\n",
    "\n",
    "\n",
    "# before class imbalance\\\n",
    "sns.histplot(data['WSF5'], ax = ax[0])\n",
    "ax[0].set_title('Before class imbalance', fontweight = 'bold', size = 15)\n",
    "ax[0].set_xlabel('WSF5',fontsize = 15)\n",
    "\n",
    "sns.histplot(x_res['WSF5'], kde = True, ax = ax[1])\n",
    "ax[1].set_title('After class imbalance', fontweight = 'bold',size =15)\n",
    "ax[1].set_xlabel('WSF5',fontsize = 15)\n",
    "\n",
    "plt.tight_layout() \n",
    "plt.show()\n",
    "\n",
    "\n"
   ]
  },
  {
   "cell_type": "code",
   "execution_count": 76,
   "id": "2acddfd3",
   "metadata": {},
   "outputs": [
    {
     "data": {
      "image/png": "[encoded data removed]",
      "text/plain": [
       "<Figure size 720x360 with 2 Axes>"
      ]
     },
     "metadata": {
      "needs_background": "light"
     },
     "output_type": "display_data"
    }
   ],
   "source": [
    "fig,ax = plt.subplots(1,2, figsize = (10,5))\n",
    "sns.boxplot(ax = ax[0], data = data, y = 'WSF5')\n",
    "ax[0].set_title('Before class imbalance', fontweight ='bold', size = 15)\n",
    "\n",
    "sns.boxplot(ax = ax[1], data = x_res, y = 'WSF5')\n",
    "ax[1].set_title('After class imbalance', fontweight ='bold', size = 15)\n",
    "\n",
    "plt.tight_layout() \n",
    "plt.show()"
   ]
  },
  {
   "cell_type": "code",
   "execution_count": 77,
   "id": "54952100",
   "metadata": {},
   "outputs": [
    {
     "name": "stdout",
     "output_type": "stream",
     "text": [
      "          AWND  TMAX  TMIN      WDF2   WDF5       WSF2       WSF5\n",
      "66    3.360000    61    47  270.0000  260.0  14.100000  25.900000\n",
      "87    2.460000    66    54  270.0000  270.0  13.000000  28.000000\n",
      "88    3.130000    64    48  270.0000  260.0  14.100000  25.900000\n",
      "112   2.680000    73    60  270.0000  260.0  13.000000  25.100000\n",
      "115   4.250000    69    55  320.0000  270.0  15.000000  28.000000\n",
      "...        ...   ...   ...       ...    ...        ...        ...\n",
      "3253  4.448160    63    52  136.3808  140.0  14.447680  25.533440\n",
      "3258  3.603493    65    54  270.0000  270.0  14.874853  29.038155\n",
      "3280  2.755218    67    54  270.0000  270.0  14.705670  28.053493\n",
      "3311  5.492384    57    50  100.0000   90.0  14.576883  24.304747\n",
      "3312  3.883310    66    54  270.0000  270.0  14.969759  31.812438\n",
      "\n",
      "[121 rows x 7 columns]\n",
      "     AWND  TMAX  TMIN  WDF2  WDF5  WSF2  WSF5\n",
      "368   0.0    60    48  50.0  50.0   4.9   6.0\n"
     ]
    }
   ],
   "source": [
    "Q1 = np.quantile(x_res['WSF5'], 0.25)\n",
    "Q3 = np.quantile(x_res['WSF5'], 0.75)\n",
    "IQR = Q3 -Q1\n",
    "lower = Q1 - 1.5*IQR\n",
    "upper = Q3 + 1.5*IQR\n",
    "print(x_res[x_res['WSF5'] > upper])\n",
    "print(x_res[x_res['WSF5'] < lower])"
   ]
  },
  {
   "cell_type": "code",
   "execution_count": 78,
   "id": "974b47eb",
   "metadata": {},
   "outputs": [
    {
     "data": {
      "text/html": [
       "<div>\n",
       "<style scoped>\n",
       "    .dataframe tbody tr th:only-of-type {\n",
       "        vertical-align: middle;\n",
       "    }\n",
       "\n",
       "    .dataframe tbody tr th {\n",
       "        vertical-align: top;\n",
       "    }\n",
       "\n",
       "    .dataframe thead th {\n",
       "        text-align: right;\n",
       "    }\n",
       "</style>\n",
       "<table border=\"1\" class=\"dataframe\">\n",
       "  <thead>\n",
       "    <tr style=\"text-align: right;\">\n",
       "      <th></th>\n",
       "      <th>AWND</th>\n",
       "      <th>TMAX</th>\n",
       "      <th>TMIN</th>\n",
       "      <th>WDF2</th>\n",
       "      <th>WDF5</th>\n",
       "      <th>WSF2</th>\n",
       "      <th>WSF5</th>\n",
       "    </tr>\n",
       "  </thead>\n",
       "  <tbody>\n",
       "    <tr>\n",
       "      <th>87</th>\n",
       "      <td>2.460000</td>\n",
       "      <td>66</td>\n",
       "      <td>54</td>\n",
       "      <td>270.000000</td>\n",
       "      <td>270.0</td>\n",
       "      <td>13.000000</td>\n",
       "      <td>28.000000</td>\n",
       "    </tr>\n",
       "    <tr>\n",
       "      <th>115</th>\n",
       "      <td>4.250000</td>\n",
       "      <td>69</td>\n",
       "      <td>55</td>\n",
       "      <td>320.000000</td>\n",
       "      <td>270.0</td>\n",
       "      <td>15.000000</td>\n",
       "      <td>28.000000</td>\n",
       "    </tr>\n",
       "    <tr>\n",
       "      <th>446</th>\n",
       "      <td>2.680000</td>\n",
       "      <td>69</td>\n",
       "      <td>55</td>\n",
       "      <td>270.000000</td>\n",
       "      <td>270.0</td>\n",
       "      <td>15.000000</td>\n",
       "      <td>29.100000</td>\n",
       "    </tr>\n",
       "    <tr>\n",
       "      <th>480</th>\n",
       "      <td>5.590000</td>\n",
       "      <td>77</td>\n",
       "      <td>60</td>\n",
       "      <td>290.000000</td>\n",
       "      <td>290.0</td>\n",
       "      <td>14.100000</td>\n",
       "      <td>27.100000</td>\n",
       "    </tr>\n",
       "    <tr>\n",
       "      <th>1116</th>\n",
       "      <td>5.370000</td>\n",
       "      <td>63</td>\n",
       "      <td>53</td>\n",
       "      <td>340.000000</td>\n",
       "      <td>350.0</td>\n",
       "      <td>14.100000</td>\n",
       "      <td>29.100000</td>\n",
       "    </tr>\n",
       "    <tr>\n",
       "      <th>1773</th>\n",
       "      <td>3.800000</td>\n",
       "      <td>62</td>\n",
       "      <td>49</td>\n",
       "      <td>260.000000</td>\n",
       "      <td>260.0</td>\n",
       "      <td>15.000000</td>\n",
       "      <td>30.000000</td>\n",
       "    </tr>\n",
       "    <tr>\n",
       "      <th>1831</th>\n",
       "      <td>2.464943</td>\n",
       "      <td>66</td>\n",
       "      <td>54</td>\n",
       "      <td>270.000000</td>\n",
       "      <td>270.0</td>\n",
       "      <td>13.044939</td>\n",
       "      <td>28.024716</td>\n",
       "    </tr>\n",
       "    <tr>\n",
       "      <th>1929</th>\n",
       "      <td>2.524830</td>\n",
       "      <td>66</td>\n",
       "      <td>54</td>\n",
       "      <td>270.000000</td>\n",
       "      <td>270.0</td>\n",
       "      <td>13.089719</td>\n",
       "      <td>28.173651</td>\n",
       "    </tr>\n",
       "    <tr>\n",
       "      <th>1963</th>\n",
       "      <td>4.381575</td>\n",
       "      <td>61</td>\n",
       "      <td>50</td>\n",
       "      <td>270.000000</td>\n",
       "      <td>280.0</td>\n",
       "      <td>14.854014</td>\n",
       "      <td>28.382622</td>\n",
       "    </tr>\n",
       "    <tr>\n",
       "      <th>2018</th>\n",
       "      <td>4.400084</td>\n",
       "      <td>67</td>\n",
       "      <td>57</td>\n",
       "      <td>270.000000</td>\n",
       "      <td>270.0</td>\n",
       "      <td>15.652365</td>\n",
       "      <td>28.433277</td>\n",
       "    </tr>\n",
       "    <tr>\n",
       "      <th>2082</th>\n",
       "      <td>2.953146</td>\n",
       "      <td>66</td>\n",
       "      <td>54</td>\n",
       "      <td>270.000000</td>\n",
       "      <td>270.0</td>\n",
       "      <td>13.682479</td>\n",
       "      <td>29.320928</td>\n",
       "    </tr>\n",
       "    <tr>\n",
       "      <th>2137</th>\n",
       "      <td>3.144508</td>\n",
       "      <td>68</td>\n",
       "      <td>54</td>\n",
       "      <td>270.000000</td>\n",
       "      <td>270.0</td>\n",
       "      <td>15.252950</td>\n",
       "      <td>30.226778</td>\n",
       "    </tr>\n",
       "    <tr>\n",
       "      <th>2152</th>\n",
       "      <td>4.465072</td>\n",
       "      <td>66</td>\n",
       "      <td>54</td>\n",
       "      <td>270.000000</td>\n",
       "      <td>270.0</td>\n",
       "      <td>15.837510</td>\n",
       "      <td>32.936916</td>\n",
       "    </tr>\n",
       "    <tr>\n",
       "      <th>2219</th>\n",
       "      <td>2.827231</td>\n",
       "      <td>65</td>\n",
       "      <td>53</td>\n",
       "      <td>270.000000</td>\n",
       "      <td>270.0</td>\n",
       "      <td>13.000000</td>\n",
       "      <td>27.086489</td>\n",
       "    </tr>\n",
       "    <tr>\n",
       "      <th>2231</th>\n",
       "      <td>3.360529</td>\n",
       "      <td>68</td>\n",
       "      <td>56</td>\n",
       "      <td>270.000000</td>\n",
       "      <td>270.0</td>\n",
       "      <td>15.370585</td>\n",
       "      <td>29.403206</td>\n",
       "    </tr>\n",
       "    <tr>\n",
       "      <th>2268</th>\n",
       "      <td>4.051493</td>\n",
       "      <td>57</td>\n",
       "      <td>48</td>\n",
       "      <td>270.000000</td>\n",
       "      <td>280.0</td>\n",
       "      <td>14.931196</td>\n",
       "      <td>28.946029</td>\n",
       "    </tr>\n",
       "    <tr>\n",
       "      <th>2300</th>\n",
       "      <td>2.909162</td>\n",
       "      <td>69</td>\n",
       "      <td>55</td>\n",
       "      <td>270.000000</td>\n",
       "      <td>270.0</td>\n",
       "      <td>14.696697</td>\n",
       "      <td>27.044281</td>\n",
       "    </tr>\n",
       "    <tr>\n",
       "      <th>2304</th>\n",
       "      <td>3.595310</td>\n",
       "      <td>65</td>\n",
       "      <td>54</td>\n",
       "      <td>270.000000</td>\n",
       "      <td>270.0</td>\n",
       "      <td>14.865710</td>\n",
       "      <td>29.001126</td>\n",
       "    </tr>\n",
       "    <tr>\n",
       "      <th>2308</th>\n",
       "      <td>4.617856</td>\n",
       "      <td>66</td>\n",
       "      <td>54</td>\n",
       "      <td>270.000000</td>\n",
       "      <td>270.0</td>\n",
       "      <td>15.986319</td>\n",
       "      <td>33.779971</td>\n",
       "    </tr>\n",
       "    <tr>\n",
       "      <th>2402</th>\n",
       "      <td>5.542834</td>\n",
       "      <td>62</td>\n",
       "      <td>52</td>\n",
       "      <td>133.805097</td>\n",
       "      <td>140.0</td>\n",
       "      <td>15.477961</td>\n",
       "      <td>27.336432</td>\n",
       "    </tr>\n",
       "    <tr>\n",
       "      <th>2426</th>\n",
       "      <td>2.801740</td>\n",
       "      <td>68</td>\n",
       "      <td>55</td>\n",
       "      <td>270.000000</td>\n",
       "      <td>270.0</td>\n",
       "      <td>15.066294</td>\n",
       "      <td>29.154241</td>\n",
       "    </tr>\n",
       "    <tr>\n",
       "      <th>2444</th>\n",
       "      <td>2.824691</td>\n",
       "      <td>65</td>\n",
       "      <td>53</td>\n",
       "      <td>270.000000</td>\n",
       "      <td>270.0</td>\n",
       "      <td>13.000000</td>\n",
       "      <td>27.092808</td>\n",
       "    </tr>\n",
       "    <tr>\n",
       "      <th>2500</th>\n",
       "      <td>2.743402</td>\n",
       "      <td>67</td>\n",
       "      <td>54</td>\n",
       "      <td>270.000000</td>\n",
       "      <td>270.0</td>\n",
       "      <td>14.751905</td>\n",
       "      <td>28.217884</td>\n",
       "    </tr>\n",
       "    <tr>\n",
       "      <th>2551</th>\n",
       "      <td>2.513841</td>\n",
       "      <td>66</td>\n",
       "      <td>54</td>\n",
       "      <td>270.000000</td>\n",
       "      <td>270.0</td>\n",
       "      <td>13.489459</td>\n",
       "      <td>28.269203</td>\n",
       "    </tr>\n",
       "    <tr>\n",
       "      <th>2570</th>\n",
       "      <td>2.475762</td>\n",
       "      <td>65</td>\n",
       "      <td>53</td>\n",
       "      <td>270.000000</td>\n",
       "      <td>270.0</td>\n",
       "      <td>13.000000</td>\n",
       "      <td>27.960790</td>\n",
       "    </tr>\n",
       "    <tr>\n",
       "      <th>2611</th>\n",
       "      <td>2.751852</td>\n",
       "      <td>69</td>\n",
       "      <td>55</td>\n",
       "      <td>270.000000</td>\n",
       "      <td>270.0</td>\n",
       "      <td>14.904902</td>\n",
       "      <td>28.455445</td>\n",
       "    </tr>\n",
       "    <tr>\n",
       "      <th>2713</th>\n",
       "      <td>4.181095</td>\n",
       "      <td>59</td>\n",
       "      <td>50</td>\n",
       "      <td>270.000000</td>\n",
       "      <td>280.0</td>\n",
       "      <td>15.359218</td>\n",
       "      <td>29.962849</td>\n",
       "    </tr>\n",
       "    <tr>\n",
       "      <th>2716</th>\n",
       "      <td>2.605267</td>\n",
       "      <td>67</td>\n",
       "      <td>54</td>\n",
       "      <td>270.000000</td>\n",
       "      <td>270.0</td>\n",
       "      <td>14.320605</td>\n",
       "      <td>28.726333</td>\n",
       "    </tr>\n",
       "    <tr>\n",
       "      <th>2726</th>\n",
       "      <td>4.331820</td>\n",
       "      <td>66</td>\n",
       "      <td>54</td>\n",
       "      <td>270.000000</td>\n",
       "      <td>270.0</td>\n",
       "      <td>15.688625</td>\n",
       "      <td>32.333933</td>\n",
       "    </tr>\n",
       "    <tr>\n",
       "      <th>2735</th>\n",
       "      <td>2.747349</td>\n",
       "      <td>67</td>\n",
       "      <td>54</td>\n",
       "      <td>270.000000</td>\n",
       "      <td>270.0</td>\n",
       "      <td>14.736460</td>\n",
       "      <td>28.162969</td>\n",
       "    </tr>\n",
       "    <tr>\n",
       "      <th>2774</th>\n",
       "      <td>4.404928</td>\n",
       "      <td>66</td>\n",
       "      <td>54</td>\n",
       "      <td>270.000000</td>\n",
       "      <td>270.0</td>\n",
       "      <td>15.691641</td>\n",
       "      <td>33.209627</td>\n",
       "    </tr>\n",
       "    <tr>\n",
       "      <th>2802</th>\n",
       "      <td>2.632807</td>\n",
       "      <td>65</td>\n",
       "      <td>54</td>\n",
       "      <td>270.000000</td>\n",
       "      <td>270.0</td>\n",
       "      <td>13.422416</td>\n",
       "      <td>27.193569</td>\n",
       "    </tr>\n",
       "    <tr>\n",
       "      <th>2818</th>\n",
       "      <td>4.691789</td>\n",
       "      <td>66</td>\n",
       "      <td>57</td>\n",
       "      <td>270.000000</td>\n",
       "      <td>270.0</td>\n",
       "      <td>16.088636</td>\n",
       "      <td>29.992669</td>\n",
       "    </tr>\n",
       "    <tr>\n",
       "      <th>2894</th>\n",
       "      <td>3.788513</td>\n",
       "      <td>60</td>\n",
       "      <td>50</td>\n",
       "      <td>270.000000</td>\n",
       "      <td>280.0</td>\n",
       "      <td>14.352597</td>\n",
       "      <td>27.194642</td>\n",
       "    </tr>\n",
       "    <tr>\n",
       "      <th>3032</th>\n",
       "      <td>3.417964</td>\n",
       "      <td>68</td>\n",
       "      <td>56</td>\n",
       "      <td>270.000000</td>\n",
       "      <td>270.0</td>\n",
       "      <td>15.401862</td>\n",
       "      <td>29.428796</td>\n",
       "    </tr>\n",
       "    <tr>\n",
       "      <th>3046</th>\n",
       "      <td>3.045492</td>\n",
       "      <td>68</td>\n",
       "      <td>55</td>\n",
       "      <td>270.000000</td>\n",
       "      <td>270.0</td>\n",
       "      <td>15.199030</td>\n",
       "      <td>29.262843</td>\n",
       "    </tr>\n",
       "    <tr>\n",
       "      <th>3111</th>\n",
       "      <td>4.534515</td>\n",
       "      <td>67</td>\n",
       "      <td>57</td>\n",
       "      <td>270.000000</td>\n",
       "      <td>270.0</td>\n",
       "      <td>16.009884</td>\n",
       "      <td>29.926269</td>\n",
       "    </tr>\n",
       "    <tr>\n",
       "      <th>3116</th>\n",
       "      <td>3.176997</td>\n",
       "      <td>68</td>\n",
       "      <td>55</td>\n",
       "      <td>270.000000</td>\n",
       "      <td>270.0</td>\n",
       "      <td>15.270642</td>\n",
       "      <td>29.321434</td>\n",
       "    </tr>\n",
       "    <tr>\n",
       "      <th>3119</th>\n",
       "      <td>2.755123</td>\n",
       "      <td>68</td>\n",
       "      <td>55</td>\n",
       "      <td>270.000000</td>\n",
       "      <td>270.0</td>\n",
       "      <td>15.040909</td>\n",
       "      <td>29.133471</td>\n",
       "    </tr>\n",
       "    <tr>\n",
       "      <th>3212</th>\n",
       "      <td>4.373327</td>\n",
       "      <td>58</td>\n",
       "      <td>49</td>\n",
       "      <td>270.000000</td>\n",
       "      <td>280.0</td>\n",
       "      <td>15.830012</td>\n",
       "      <td>31.294549</td>\n",
       "    </tr>\n",
       "    <tr>\n",
       "      <th>3236</th>\n",
       "      <td>4.354806</td>\n",
       "      <td>67</td>\n",
       "      <td>54</td>\n",
       "      <td>270.000000</td>\n",
       "      <td>270.0</td>\n",
       "      <td>15.584786</td>\n",
       "      <td>31.166321</td>\n",
       "    </tr>\n",
       "    <tr>\n",
       "      <th>3244</th>\n",
       "      <td>4.537826</td>\n",
       "      <td>67</td>\n",
       "      <td>54</td>\n",
       "      <td>270.000000</td>\n",
       "      <td>270.0</td>\n",
       "      <td>15.857950</td>\n",
       "      <td>32.668725</td>\n",
       "    </tr>\n",
       "    <tr>\n",
       "      <th>3258</th>\n",
       "      <td>3.603493</td>\n",
       "      <td>65</td>\n",
       "      <td>54</td>\n",
       "      <td>270.000000</td>\n",
       "      <td>270.0</td>\n",
       "      <td>14.874853</td>\n",
       "      <td>29.038155</td>\n",
       "    </tr>\n",
       "    <tr>\n",
       "      <th>3280</th>\n",
       "      <td>2.755218</td>\n",
       "      <td>67</td>\n",
       "      <td>54</td>\n",
       "      <td>270.000000</td>\n",
       "      <td>270.0</td>\n",
       "      <td>14.705670</td>\n",
       "      <td>28.053493</td>\n",
       "    </tr>\n",
       "    <tr>\n",
       "      <th>3312</th>\n",
       "      <td>3.883310</td>\n",
       "      <td>66</td>\n",
       "      <td>54</td>\n",
       "      <td>270.000000</td>\n",
       "      <td>270.0</td>\n",
       "      <td>14.969759</td>\n",
       "      <td>31.812438</td>\n",
       "    </tr>\n",
       "  </tbody>\n",
       "</table>\n",
       "</div>"
      ],
      "text/plain": [
       "          AWND  TMAX  TMIN        WDF2   WDF5       WSF2       WSF5\n",
       "87    2.460000    66    54  270.000000  270.0  13.000000  28.000000\n",
       "115   4.250000    69    55  320.000000  270.0  15.000000  28.000000\n",
       "446   2.680000    69    55  270.000000  270.0  15.000000  29.100000\n",
       "480   5.590000    77    60  290.000000  290.0  14.100000  27.100000\n",
       "1116  5.370000    63    53  340.000000  350.0  14.100000  29.100000\n",
       "1773  3.800000    62    49  260.000000  260.0  15.000000  30.000000\n",
       "1831  2.464943    66    54  270.000000  270.0  13.044939  28.024716\n",
       "1929  2.524830    66    54  270.000000  270.0  13.089719  28.173651\n",
       "1963  4.381575    61    50  270.000000  280.0  14.854014  28.382622\n",
       "2018  4.400084    67    57  270.000000  270.0  15.652365  28.433277\n",
       "2082  2.953146    66    54  270.000000  270.0  13.682479  29.320928\n",
       "2137  3.144508    68    54  270.000000  270.0  15.252950  30.226778\n",
       "2152  4.465072    66    54  270.000000  270.0  15.837510  32.936916\n",
       "2219  2.827231    65    53  270.000000  270.0  13.000000  27.086489\n",
       "2231  3.360529    68    56  270.000000  270.0  15.370585  29.403206\n",
       "2268  4.051493    57    48  270.000000  280.0  14.931196  28.946029\n",
       "2300  2.909162    69    55  270.000000  270.0  14.696697  27.044281\n",
       "2304  3.595310    65    54  270.000000  270.0  14.865710  29.001126\n",
       "2308  4.617856    66    54  270.000000  270.0  15.986319  33.779971\n",
       "2402  5.542834    62    52  133.805097  140.0  15.477961  27.336432\n",
       "2426  2.801740    68    55  270.000000  270.0  15.066294  29.154241\n",
       "2444  2.824691    65    53  270.000000  270.0  13.000000  27.092808\n",
       "2500  2.743402    67    54  270.000000  270.0  14.751905  28.217884\n",
       "2551  2.513841    66    54  270.000000  270.0  13.489459  28.269203\n",
       "2570  2.475762    65    53  270.000000  270.0  13.000000  27.960790\n",
       "2611  2.751852    69    55  270.000000  270.0  14.904902  28.455445\n",
       "2713  4.181095    59    50  270.000000  280.0  15.359218  29.962849\n",
       "2716  2.605267    67    54  270.000000  270.0  14.320605  28.726333\n",
       "2726  4.331820    66    54  270.000000  270.0  15.688625  32.333933\n",
       "2735  2.747349    67    54  270.000000  270.0  14.736460  28.162969\n",
       "2774  4.404928    66    54  270.000000  270.0  15.691641  33.209627\n",
       "2802  2.632807    65    54  270.000000  270.0  13.422416  27.193569\n",
       "2818  4.691789    66    57  270.000000  270.0  16.088636  29.992669\n",
       "2894  3.788513    60    50  270.000000  280.0  14.352597  27.194642\n",
       "3032  3.417964    68    56  270.000000  270.0  15.401862  29.428796\n",
       "3046  3.045492    68    55  270.000000  270.0  15.199030  29.262843\n",
       "3111  4.534515    67    57  270.000000  270.0  16.009884  29.926269\n",
       "3116  3.176997    68    55  270.000000  270.0  15.270642  29.321434\n",
       "3119  2.755123    68    55  270.000000  270.0  15.040909  29.133471\n",
       "3212  4.373327    58    49  270.000000  280.0  15.830012  31.294549\n",
       "3236  4.354806    67    54  270.000000  270.0  15.584786  31.166321\n",
       "3244  4.537826    67    54  270.000000  270.0  15.857950  32.668725\n",
       "3258  3.603493    65    54  270.000000  270.0  14.874853  29.038155\n",
       "3280  2.755218    67    54  270.000000  270.0  14.705670  28.053493\n",
       "3312  3.883310    66    54  270.000000  270.0  14.969759  31.812438"
      ]
     },
     "execution_count": 78,
     "metadata": {},
     "output_type": "execute_result"
    }
   ],
   "source": [
    "x_res[x_res['WSF5'] > 27]"
   ]
  },
  {
   "cell_type": "markdown",
   "id": "799afed8",
   "metadata": {},
   "source": [
    "<P>\n",
    "Remove the lower outliers and upper outlier after 27\n",
    "<p/>\n"
   ]
  },
  {
   "cell_type": "code",
   "execution_count": 79,
   "id": "27ba4180",
   "metadata": {},
   "outputs": [],
   "source": [
    "x_res = x_res[x_res['WSF5'] < 27]"
   ]
  },
  {
   "cell_type": "code",
   "execution_count": 80,
   "id": "405946d3",
   "metadata": {},
   "outputs": [],
   "source": [
    "x_res = x_res[x_res['WSF5'] > lower]"
   ]
  },
  {
   "cell_type": "code",
   "execution_count": 81,
   "id": "35bb9948",
   "metadata": {},
   "outputs": [
    {
     "data": {
      "image/png": "[encoded data removed]",
      "text/plain": [
       "<Figure size 720x360 with 2 Axes>"
      ]
     },
     "metadata": {
      "needs_background": "light"
     },
     "output_type": "display_data"
    }
   ],
   "source": [
    "fig,ax = plt.subplots(1,2, figsize = (10,5))\n",
    "sns.boxplot(ax = ax[0], data = data, y = 'WSF5')\n",
    "ax[0].set_title('Before class imbalance', fontweight ='bold', size = 15)\n",
    "\n",
    "sns.boxplot(ax = ax[1], data = x_res, y = 'WSF5')\n",
    "ax[1].set_title('After class imbalance', fontweight ='bold', size = 15)\n",
    "\n",
    "plt.tight_layout() \n",
    "plt.show()"
   ]
  },
  {
   "cell_type": "markdown",
   "id": "4548173a",
   "metadata": {},
   "source": [
    "**Column PRCP = Precipitation (tenths of mm)**"
   ]
  },
  {
   "cell_type": "code",
   "execution_count": 82,
   "id": "abd1d82d",
   "metadata": {},
   "outputs": [
    {
     "data": {
      "image/png": "[encoded data removed]",
      "text/plain": [
       "<Figure size 720x432 with 2 Axes>"
      ]
     },
     "metadata": {
      "needs_background": "light"
     },
     "output_type": "display_data"
    }
   ],
   "source": [
    "fig,ax = plt.subplots(1,2, figsize = (10,6))\n",
    "\n",
    "\n",
    "# before class imbalance\\\n",
    "sns.histplot(data['PRCP'], ax = ax[0])\n",
    "ax[0].set_title('Before class imbalance', fontweight = 'bold', size = 15)\n",
    "ax[0].set_xlabel('PRCP',fontsize = 15)\n",
    "\n",
    "sns.histplot(y_res, ax = ax[1])\n",
    "ax[1].set_title('After class imbalance', fontweight = 'bold',size =15)\n",
    "ax[1].set_xlabel('PRCP',fontsize = 15)\n",
    "\n",
    "plt.tight_layout() \n",
    "plt.show()\n"
   ]
  },
  {
   "cell_type": "markdown",
   "id": "400e8f12",
   "metadata": {},
   "source": [
    "### Relationship analysis by correlation"
   ]
  },
  {
   "cell_type": "code",
   "execution_count": 135,
   "id": "cdef436c",
   "metadata": {},
   "outputs": [
    {
     "data": {
      "text/html": [
       "<div>\n",
       "<style scoped>\n",
       "    .dataframe tbody tr th:only-of-type {\n",
       "        vertical-align: middle;\n",
       "    }\n",
       "\n",
       "    .dataframe tbody tr th {\n",
       "        vertical-align: top;\n",
       "    }\n",
       "\n",
       "    .dataframe thead th {\n",
       "        text-align: right;\n",
       "    }\n",
       "</style>\n",
       "<table border=\"1\" class=\"dataframe\">\n",
       "  <thead>\n",
       "    <tr style=\"text-align: right;\">\n",
       "      <th></th>\n",
       "      <th>AWND</th>\n",
       "      <th>PRCP</th>\n",
       "      <th>TMAX</th>\n",
       "      <th>TMIN</th>\n",
       "      <th>WDF2</th>\n",
       "      <th>WDF5</th>\n",
       "      <th>WSF2</th>\n",
       "      <th>WSF5</th>\n",
       "    </tr>\n",
       "  </thead>\n",
       "  <tbody>\n",
       "    <tr>\n",
       "      <th>AWND</th>\n",
       "      <td>1.000000</td>\n",
       "      <td>0.296275</td>\n",
       "      <td>-0.210241</td>\n",
       "      <td>0.044547</td>\n",
       "      <td>-0.121647</td>\n",
       "      <td>-0.075251</td>\n",
       "      <td>0.684451</td>\n",
       "      <td>0.716180</td>\n",
       "    </tr>\n",
       "    <tr>\n",
       "      <th>PRCP</th>\n",
       "      <td>0.296275</td>\n",
       "      <td>1.000000</td>\n",
       "      <td>-0.399819</td>\n",
       "      <td>-0.181494</td>\n",
       "      <td>-0.327911</td>\n",
       "      <td>-0.289741</td>\n",
       "      <td>0.198397</td>\n",
       "      <td>0.227879</td>\n",
       "    </tr>\n",
       "    <tr>\n",
       "      <th>TMAX</th>\n",
       "      <td>-0.210241</td>\n",
       "      <td>-0.399819</td>\n",
       "      <td>1.000000</td>\n",
       "      <td>0.728544</td>\n",
       "      <td>0.249888</td>\n",
       "      <td>0.221561</td>\n",
       "      <td>-0.106349</td>\n",
       "      <td>-0.154401</td>\n",
       "    </tr>\n",
       "    <tr>\n",
       "      <th>TMIN</th>\n",
       "      <td>0.044547</td>\n",
       "      <td>-0.181494</td>\n",
       "      <td>0.728544</td>\n",
       "      <td>1.000000</td>\n",
       "      <td>0.221233</td>\n",
       "      <td>0.197057</td>\n",
       "      <td>0.068868</td>\n",
       "      <td>0.052455</td>\n",
       "    </tr>\n",
       "    <tr>\n",
       "      <th>WDF2</th>\n",
       "      <td>-0.121647</td>\n",
       "      <td>-0.327911</td>\n",
       "      <td>0.249888</td>\n",
       "      <td>0.221233</td>\n",
       "      <td>1.000000</td>\n",
       "      <td>0.742144</td>\n",
       "      <td>0.027084</td>\n",
       "      <td>0.074085</td>\n",
       "    </tr>\n",
       "    <tr>\n",
       "      <th>WDF5</th>\n",
       "      <td>-0.075251</td>\n",
       "      <td>-0.289741</td>\n",
       "      <td>0.221561</td>\n",
       "      <td>0.197057</td>\n",
       "      <td>0.742144</td>\n",
       "      <td>1.000000</td>\n",
       "      <td>0.078202</td>\n",
       "      <td>0.119611</td>\n",
       "    </tr>\n",
       "    <tr>\n",
       "      <th>WSF2</th>\n",
       "      <td>0.684451</td>\n",
       "      <td>0.198397</td>\n",
       "      <td>-0.106349</td>\n",
       "      <td>0.068868</td>\n",
       "      <td>0.027084</td>\n",
       "      <td>0.078202</td>\n",
       "      <td>1.000000</td>\n",
       "      <td>0.900583</td>\n",
       "    </tr>\n",
       "    <tr>\n",
       "      <th>WSF5</th>\n",
       "      <td>0.716180</td>\n",
       "      <td>0.227879</td>\n",
       "      <td>-0.154401</td>\n",
       "      <td>0.052455</td>\n",
       "      <td>0.074085</td>\n",
       "      <td>0.119611</td>\n",
       "      <td>0.900583</td>\n",
       "      <td>1.000000</td>\n",
       "    </tr>\n",
       "  </tbody>\n",
       "</table>\n",
       "</div>"
      ],
      "text/plain": [
       "          AWND      PRCP      TMAX      TMIN      WDF2      WDF5      WSF2  \\\n",
       "AWND  1.000000  0.296275 -0.210241  0.044547 -0.121647 -0.075251  0.684451   \n",
       "PRCP  0.296275  1.000000 -0.399819 -0.181494 -0.327911 -0.289741  0.198397   \n",
       "TMAX -0.210241 -0.399819  1.000000  0.728544  0.249888  0.221561 -0.106349   \n",
       "TMIN  0.044547 -0.181494  0.728544  1.000000  0.221233  0.197057  0.068868   \n",
       "WDF2 -0.121647 -0.327911  0.249888  0.221233  1.000000  0.742144  0.027084   \n",
       "WDF5 -0.075251 -0.289741  0.221561  0.197057  0.742144  1.000000  0.078202   \n",
       "WSF2  0.684451  0.198397 -0.106349  0.068868  0.027084  0.078202  1.000000   \n",
       "WSF5  0.716180  0.227879 -0.154401  0.052455  0.074085  0.119611  0.900583   \n",
       "\n",
       "          WSF5  \n",
       "AWND  0.716180  \n",
       "PRCP  0.227879  \n",
       "TMAX -0.154401  \n",
       "TMIN  0.052455  \n",
       "WDF2  0.074085  \n",
       "WDF5  0.119611  \n",
       "WSF2  0.900583  \n",
       "WSF5  1.000000  "
      ]
     },
     "execution_count": 135,
     "metadata": {},
     "output_type": "execute_result"
    }
   ],
   "source": [
    "data.corr()"
   ]
  },
  {
   "cell_type": "code",
   "execution_count": 143,
   "id": "c0d58d6c",
   "metadata": {},
   "outputs": [
    {
     "data": {
      "image/png": "[encoded data removed]",
      "text/plain": [
       "<Figure size 1080x360 with 2 Axes>"
      ]
     },
     "metadata": {
      "needs_background": "light"
     },
     "output_type": "display_data"
    }
   ],
   "source": [
    "plt.figure(figsize = (15,5))\n",
    "sns.heatmap(data.corr(), annot = True)\n",
    "plt.show()"
   ]
  },
  {
   "cell_type": "code",
   "execution_count": 142,
   "id": "e4b0b162",
   "metadata": {},
   "outputs": [
    {
     "data": {
      "text/plain": [
       "AWND    0.296275\n",
       "PRCP    1.000000\n",
       "TMAX   -0.399819\n",
       "TMIN   -0.181494\n",
       "WDF2   -0.327911\n",
       "WDF5   -0.289741\n",
       "WSF2    0.198397\n",
       "WSF5    0.227879\n",
       "Name: PRCP, dtype: float64"
      ]
     },
     "execution_count": 142,
     "metadata": {},
     "output_type": "execute_result"
    }
   ],
   "source": [
    "data.corr()['PRCP']"
   ]
  },
  {
   "cell_type": "markdown",
   "id": "bbac7461",
   "metadata": {},
   "source": [
    "### Standardizing data and feature selection\n"
   ]
  },
  {
   "cell_type": "markdown",
   "id": "4380e50e",
   "metadata": {},
   "source": [
    "Define Hypothesis by Chi-Square Test for Feature Selection\n",
    "\n",
    "  * Null Hypothesis (H0): Two variables are independent.\n",
    "\n",
    "  * Alternate Hypothesis (H1): Two variables are not independent."
   ]
  },
  {
   "cell_type": "code",
   "execution_count": 88,
   "id": "7394e4d6",
   "metadata": {},
   "outputs": [],
   "source": [
    "from sklearn.feature_selection import SelectKBest, chi2"
   ]
  },
  {
   "cell_type": "code",
   "execution_count": 89,
   "id": "06049997",
   "metadata": {},
   "outputs": [
    {
     "name": "stdout",
     "output_type": "stream",
     "text": [
      "(3150, 7)\n",
      "(3320, 1)\n"
     ]
    }
   ],
   "source": [
    "print(x_res.shape)\n",
    "print(y_res.shape)\n"
   ]
  },
  {
   "cell_type": "code",
   "execution_count": 90,
   "id": "14ec8cc0",
   "metadata": {},
   "outputs": [
    {
     "name": "stdout",
     "output_type": "stream",
     "text": [
      "Int64Index([   0,    1,    2,    3,    4,    5,    6,    7,    8,    9,\n",
      "            ...\n",
      "            3309, 3310, 3311, 3313, 3314, 3315, 3316, 3317, 3318, 3319],\n",
      "           dtype='int64', length=3150)\n"
     ]
    }
   ],
   "source": [
    "# To manege the index\n",
    "print(x_res.index)\n",
    "y_res = y_res.iloc[x_res.index]\n",
    "\n"
   ]
  },
  {
   "cell_type": "code",
   "execution_count": 91,
   "id": "d4fc33f6",
   "metadata": {},
   "outputs": [
    {
     "name": "stdout",
     "output_type": "stream",
     "text": [
      "(3150, 7)\n",
      "(3150, 1)\n"
     ]
    }
   ],
   "source": [
    "print(x_res.shape)\n",
    "print(y_res.shape)"
   ]
  },
  {
   "cell_type": "code",
   "execution_count": 92,
   "id": "1e384a34",
   "metadata": {},
   "outputs": [],
   "source": [
    "x_res.reset_index(inplace = True)"
   ]
  },
  {
   "cell_type": "code",
   "execution_count": 93,
   "id": "713de7b6",
   "metadata": {},
   "outputs": [],
   "source": [
    "x_res.drop(['index'], axis = 1, inplace = True)"
   ]
  },
  {
   "cell_type": "code",
   "execution_count": 289,
   "id": "a76068cf",
   "metadata": {},
   "outputs": [
    {
     "data": {
      "text/html": [
       "<div>\n",
       "<style scoped>\n",
       "    .dataframe tbody tr th:only-of-type {\n",
       "        vertical-align: middle;\n",
       "    }\n",
       "\n",
       "    .dataframe tbody tr th {\n",
       "        vertical-align: top;\n",
       "    }\n",
       "\n",
       "    .dataframe thead th {\n",
       "        text-align: right;\n",
       "    }\n",
       "</style>\n",
       "<table border=\"1\" class=\"dataframe\">\n",
       "  <thead>\n",
       "    <tr style=\"text-align: right;\">\n",
       "      <th></th>\n",
       "      <th>AWND</th>\n",
       "      <th>TMAX</th>\n",
       "      <th>TMIN</th>\n",
       "      <th>WDF2</th>\n",
       "      <th>WDF5</th>\n",
       "      <th>WSF2</th>\n",
       "    </tr>\n",
       "  </thead>\n",
       "  <tbody>\n",
       "    <tr>\n",
       "      <th>0</th>\n",
       "      <td>0.431610</td>\n",
       "      <td>-0.778897</td>\n",
       "      <td>-2.120602</td>\n",
       "      <td>-2.832250</td>\n",
       "      <td>-2.695322</td>\n",
       "      <td>-0.659113</td>\n",
       "    </tr>\n",
       "    <tr>\n",
       "      <th>1</th>\n",
       "      <td>0.011048</td>\n",
       "      <td>-0.668407</td>\n",
       "      <td>-1.464214</td>\n",
       "      <td>0.550446</td>\n",
       "      <td>-2.695322</td>\n",
       "      <td>-1.692099</td>\n",
       "    </tr>\n",
       "    <tr>\n",
       "      <th>2</th>\n",
       "      <td>-1.241291</td>\n",
       "      <td>-0.999875</td>\n",
       "      <td>-1.956505</td>\n",
       "      <td>-1.010798</td>\n",
       "      <td>-1.104717</td>\n",
       "      <td>0.324683</td>\n",
       "    </tr>\n",
       "    <tr>\n",
       "      <th>3</th>\n",
       "      <td>-0.615121</td>\n",
       "      <td>-0.226450</td>\n",
       "      <td>-0.151438</td>\n",
       "      <td>0.550446</td>\n",
       "      <td>0.618438</td>\n",
       "      <td>-0.659113</td>\n",
       "    </tr>\n",
       "    <tr>\n",
       "      <th>4</th>\n",
       "      <td>0.431610</td>\n",
       "      <td>-1.331343</td>\n",
       "      <td>-1.136020</td>\n",
       "      <td>-1.140902</td>\n",
       "      <td>-1.237267</td>\n",
       "      <td>0.324683</td>\n",
       "    </tr>\n",
       "  </tbody>\n",
       "</table>\n",
       "</div>"
      ],
      "text/plain": [
       "       AWND      TMAX      TMIN      WDF2      WDF5      WSF2\n",
       "0  0.431610 -0.778897 -2.120602 -2.832250 -2.695322 -0.659113\n",
       "1  0.011048 -0.668407 -1.464214  0.550446 -2.695322 -1.692099\n",
       "2 -1.241291 -0.999875 -1.956505 -1.010798 -1.104717  0.324683\n",
       "3 -0.615121 -0.226450 -0.151438  0.550446  0.618438 -0.659113\n",
       "4  0.431610 -1.331343 -1.136020 -1.140902 -1.237267  0.324683"
      ]
     },
     "execution_count": 289,
     "metadata": {},
     "output_type": "execute_result"
    }
   ],
   "source": [
    "x_res.head()"
   ]
  },
  {
   "cell_type": "code",
   "execution_count": 95,
   "id": "73424612",
   "metadata": {},
   "outputs": [],
   "source": [
    "x_new = SelectKBest(chi2, k=\"all\").fit_transform(x_res, y_res)"
   ]
  },
  {
   "cell_type": "code",
   "execution_count": 96,
   "id": "d4376286",
   "metadata": {},
   "outputs": [],
   "source": [
    "chi_scores = chi2(x_new,y_res)\n"
   ]
  },
  {
   "cell_type": "code",
   "execution_count": 98,
   "id": "6cc8fc2a",
   "metadata": {},
   "outputs": [
    {
     "data": {
      "text/plain": [
       "(array([  317.95619978,  1758.73407121,   327.32668792, 14190.41700399,\n",
       "        10648.25369209,   114.82936629,   286.38297626]),\n",
       " array([4.03728650e-71, 0.00000000e+00, 3.67320676e-73, 0.00000000e+00,\n",
       "        0.00000000e+00, 8.57690166e-27, 3.05274020e-64]))"
      ]
     },
     "execution_count": 98,
     "metadata": {},
     "output_type": "execute_result"
    }
   ],
   "source": [
    "chi_scores "
   ]
  },
  {
   "cell_type": "code",
   "execution_count": 99,
   "id": "8a5e3c9a",
   "metadata": {},
   "outputs": [
    {
     "data": {
      "image/png": "[encoded data removed]",
      "text/plain": [
       "<Figure size 432x288 with 1 Axes>"
      ]
     },
     "metadata": {
      "needs_background": "light"
     },
     "output_type": "display_data"
    }
   ],
   "source": [
    "# Higher the chi-value, higher the importance\n",
    "\n",
    "chi_values = pd.Series(chi_scores[0])\n",
    "chi_values.sort_values(ascending = False, inplace = True)\n",
    "chi_values.plot.bar()\n",
    "\n",
    "plt.show()"
   ]
  },
  {
   "cell_type": "code",
   "execution_count": 100,
   "id": "30e387b0",
   "metadata": {},
   "outputs": [
    {
     "data": {
      "text/plain": [
       "114.82936628613491"
      ]
     },
     "execution_count": 100,
     "metadata": {},
     "output_type": "execute_result"
    }
   ],
   "source": [
    "chi_values[5]"
   ]
  },
  {
   "cell_type": "code",
   "execution_count": 101,
   "id": "68a9b9d8",
   "metadata": {},
   "outputs": [
    {
     "data": {
      "image/png": "[encoded data removed]",
      "text/plain": [
       "<Figure size 432x288 with 1 Axes>"
      ]
     },
     "metadata": {
      "needs_background": "light"
     },
     "output_type": "display_data"
    }
   ],
   "source": [
    "# Higher the p-value(p-value > 0.5), lower the importance\n",
    "\n",
    "p_values = pd.Series(chi_scores[1])  #, index = x.columns\n",
    "p_values.sort_values(ascending = False, inplace = True)\n",
    "p_values.plot.bar()\n",
    "\n",
    "plt.show()"
   ]
  },
  {
   "cell_type": "markdown",
   "id": "72c7061e",
   "metadata": {},
   "source": [
    "**COMMENT :-** So we get low chi-value of WSF5 and Higher the P-value of WSF2 so it's less important it's better to remove it."
   ]
  },
  {
   "cell_type": "code",
   "execution_count": 102,
   "id": "958e9939",
   "metadata": {},
   "outputs": [],
   "source": [
    "#data.drop(\"WSF5\", inplace = True, axis = 1)"
   ]
  },
  {
   "cell_type": "code",
   "execution_count": 103,
   "id": "c4c01446",
   "metadata": {},
   "outputs": [],
   "source": [
    "x_res.drop(['WSF5'], inplace = True, axis = 1)"
   ]
  },
  {
   "cell_type": "code",
   "execution_count": 104,
   "id": "93a884e4",
   "metadata": {},
   "outputs": [
    {
     "data": {
      "text/plain": [
       "Index(['AWND', 'TMAX', 'TMIN', 'WDF2', 'WDF5', 'WSF2'], dtype='object')"
      ]
     },
     "execution_count": 104,
     "metadata": {},
     "output_type": "execute_result"
    }
   ],
   "source": [
    "x_res.columns"
   ]
  },
  {
   "cell_type": "code",
   "execution_count": 105,
   "id": "a6507280",
   "metadata": {},
   "outputs": [
    {
     "data": {
      "text/plain": [
       "Index(['AWND', 'PRCP', 'TMAX', 'TMIN', 'WDF2', 'WDF5', 'WSF2', 'WSF5'], dtype='object')"
      ]
     },
     "execution_count": 105,
     "metadata": {},
     "output_type": "execute_result"
    }
   ],
   "source": [
    "data.columns"
   ]
  },
  {
   "cell_type": "markdown",
   "id": "d982b23a",
   "metadata": {},
   "source": [
    "### Data Normalization"
   ]
  },
  {
   "cell_type": "markdown",
   "id": "cfa7e45e",
   "metadata": {},
   "source": [
    "**Z-score method**"
   ]
  },
  {
   "cell_type": "code",
   "execution_count": 106,
   "id": "3d5b8ae9",
   "metadata": {},
   "outputs": [],
   "source": [
    "for i in data.columns:\n",
    "    data[i] = (data[i] - data[i].mean())/ data[i].std()\n"
   ]
  },
  {
   "cell_type": "code",
   "execution_count": 107,
   "id": "0e1c2be4",
   "metadata": {},
   "outputs": [],
   "source": [
    "for i in x_res.columns:\n",
    "    x_res[i] = (x_res[i] - x_res[i].mean())/ x_res[i].std()\n"
   ]
  },
  {
   "cell_type": "code",
   "execution_count": 110,
   "id": "1845d62e",
   "metadata": {},
   "outputs": [
    {
     "data": {
      "text/plain": [
       "<AxesSubplot:>"
      ]
     },
     "execution_count": 110,
     "metadata": {},
     "output_type": "execute_result"
    },
    {
     "data": {
      "image/png": "[encoded data removed]",
      "text/plain": [
       "<Figure size 360x720 with 1 Axes>"
      ]
     },
     "metadata": {
      "needs_background": "light"
     },
     "output_type": "display_data"
    }
   ],
   "source": [
    "plt.figure(figsize = (5,10))\n",
    "sns.barplot(data = x_res)"
   ]
  },
  {
   "cell_type": "markdown",
   "id": "f932e755",
   "metadata": {},
   "source": [
    "### ||------------------------------------- TRAINING MODEL USING DIFFERENT TECHNIQUES --------------------------------------||"
   ]
  },
  {
   "cell_type": "code",
   "execution_count": 111,
   "id": "54e9c7de",
   "metadata": {},
   "outputs": [],
   "source": [
    "# data2 = x_res\n",
    "# data2[\"PRCP\"] =y_res"
   ]
  },
  {
   "cell_type": "code",
   "execution_count": 112,
   "id": "2e692645",
   "metadata": {},
   "outputs": [
    {
     "data": {
      "text/plain": [
       "AWND    0\n",
       "TMAX    0\n",
       "TMIN    0\n",
       "WDF2    0\n",
       "WDF5    0\n",
       "WSF2    0\n",
       "dtype: int64"
      ]
     },
     "execution_count": 112,
     "metadata": {},
     "output_type": "execute_result"
    }
   ],
   "source": [
    "x_res.isnull().sum()\n"
   ]
  },
  {
   "cell_type": "code",
   "execution_count": 113,
   "id": "ce4d06eb",
   "metadata": {},
   "outputs": [],
   "source": [
    "from sklearn.model_selection import train_test_split"
   ]
  },
  {
   "cell_type": "code",
   "execution_count": 114,
   "id": "d01f890d",
   "metadata": {},
   "outputs": [],
   "source": [
    "x_train,x_test,y_train,y_test = train_test_split(x_res,y_res, random_state = 104, test_size = 0.25, shuffle = True)"
   ]
  },
  {
   "cell_type": "markdown",
   "id": "2c19b142",
   "metadata": {},
   "source": [
    "### 1. Logistic Regression Classifier"
   ]
  },
  {
   "cell_type": "code",
   "execution_count": 115,
   "id": "558eba5b",
   "metadata": {},
   "outputs": [],
   "source": [
    "from sklearn.linear_model import LogisticRegression\n",
    "from sklearn.metrics import classification_report, confusion_matrix"
   ]
  },
  {
   "cell_type": "code",
   "execution_count": 116,
   "id": "81543386",
   "metadata": {},
   "outputs": [],
   "source": [
    "clf = LogisticRegression(solver= 'liblinear',random_state = 0)"
   ]
  },
  {
   "cell_type": "code",
   "execution_count": 117,
   "id": "5bb69764",
   "metadata": {},
   "outputs": [
    {
     "name": "stderr",
     "output_type": "stream",
     "text": [
      "C:\\Users\\verma\\anaconda3\\lib\\site-packages\\sklearn\\utils\\validation.py:993: DataConversionWarning: A column-vector y was passed when a 1d array was expected. Please change the shape of y to (n_samples, ), for example using ravel().\n",
      "  y = column_or_1d(y, warn=True)\n"
     ]
    },
    {
     "data": {
      "text/plain": [
       "LogisticRegression(random_state=0, solver='liblinear')"
      ]
     },
     "execution_count": 117,
     "metadata": {},
     "output_type": "execute_result"
    }
   ],
   "source": [
    "clf.fit(x_train,y_train)"
   ]
  },
  {
   "cell_type": "code",
   "execution_count": 118,
   "id": "6b13e614",
   "metadata": {},
   "outputs": [],
   "source": [
    "predicted = clf.predict(x_test)"
   ]
  },
  {
   "cell_type": "code",
   "execution_count": 119,
   "id": "f9eb5bcc",
   "metadata": {},
   "outputs": [
    {
     "name": "stdout",
     "output_type": "stream",
     "text": [
      "Accuracy of train data:  0.8797629127857748\n",
      "Accuracy of test data:  0.8743654822335025\n",
      "\n",
      "Overall 87% variation is explained on both training and test data by our fitted model rest 13% variation is unexplained by our model.\n"
     ]
    }
   ],
   "source": [
    "print('Accuracy of train data: ', clf.score(x_train, y_train))\n",
    "print('Accuracy of test data: ', clf.score(x_test,y_test))\n",
    "print('\\nOverall 87% variation is explained on both training and test data by our fitted model rest 13% variation is unexplained by our model.')"
   ]
  },
  {
   "cell_type": "code",
   "execution_count": 124,
   "id": "1961bafa",
   "metadata": {},
   "outputs": [
    {
     "data": {
      "image/png": "[encoded data removed]",
      "text/plain": [
       "<Figure size 576x576 with 1 Axes>"
      ]
     },
     "metadata": {
      "needs_background": "light"
     },
     "output_type": "display_data"
    }
   ],
   "source": [
    "# to see visuale confusion matrix of x_train and y_train\n",
    "\n",
    "cm = confusion_matrix(y_train, clf.predict(x_train))\n",
    "\n",
    "fig, ax = plt.subplots(figsize=(8, 8))\n",
    "ax.imshow(cm)\n",
    "ax.grid(False)\n",
    "ax.xaxis.set(ticks=(0, 1), ticklabels=('Predicted 0s', 'Predicted 1s'))\n",
    "ax.yaxis.set(ticks=(0, 1), ticklabels=('Actual 0s', 'Actual 1s'))\n",
    "ax.set_ylim(1.5, -0.5)\n",
    "for i in range(2):\n",
    "    for j in range(2):\n",
    "        ax.text(j, i, cm[i, j], ha='center', va='center', color='red')\n",
    "plt.show()"
   ]
  },
  {
   "cell_type": "code",
   "execution_count": 125,
   "id": "944989a1",
   "metadata": {},
   "outputs": [
    {
     "name": "stdout",
     "output_type": "stream",
     "text": [
      "report:\n",
      "              precision    recall  f1-score   support\n",
      "\n",
      "         0.0       0.85      0.90      0.88      1124\n",
      "         1.0       0.91      0.86      0.88      1238\n",
      "\n",
      "    accuracy                           0.88      2362\n",
      "   macro avg       0.88      0.88      0.88      2362\n",
      "weighted avg       0.88      0.88      0.88      2362\n",
      "\n"
     ]
    }
   ],
   "source": [
    "print('report:', classification_report(clf.predict(x_train), y_train), sep='\\n')"
   ]
  },
  {
   "cell_type": "code",
   "execution_count": 126,
   "id": "8abb4882",
   "metadata": {},
   "outputs": [
    {
     "data": {
      "text/plain": [
       "array([[327,  61],\n",
       "       [ 38, 362]], dtype=int64)"
      ]
     },
     "execution_count": 126,
     "metadata": {},
     "output_type": "execute_result"
    }
   ],
   "source": [
    "confusion_matrix(y_test, predicted)"
   ]
  },
  {
   "cell_type": "code",
   "execution_count": 127,
   "id": "51044911",
   "metadata": {},
   "outputs": [
    {
     "data": {
      "image/png": "[encoded data removed]",
      "text/plain": [
       "<Figure size 576x576 with 1 Axes>"
      ]
     },
     "metadata": {
      "needs_background": "light"
     },
     "output_type": "display_data"
    }
   ],
   "source": [
    "# to see visuale the confusion matrix of y_test and predicted values\n",
    "\n",
    "cm = confusion_matrix(y_test, predicted)\n",
    "\n",
    "fig, ax = plt.subplots(figsize=(8, 8))\n",
    "ax.imshow(cm)\n",
    "ax.grid(False)\n",
    "ax.xaxis.set(ticks=(0, 1), ticklabels=('Predicted 0s', 'Predicted 1s'))\n",
    "ax.yaxis.set(ticks=(0, 1), ticklabels=('Actual 0s', 'Actual 1s'))\n",
    "ax.set_ylim(1.5, -0.5)\n",
    "for i in range(2):\n",
    "    for j in range(2):\n",
    "        ax.text(j, i, cm[i, j], ha='center', va='center', color='red')\n",
    "plt.show()"
   ]
  },
  {
   "cell_type": "code",
   "execution_count": 128,
   "id": "e5f67f86",
   "metadata": {},
   "outputs": [
    {
     "name": "stdout",
     "output_type": "stream",
     "text": [
      "report:\n",
      "              precision    recall  f1-score   support\n",
      "\n",
      "         0.0       0.90      0.84      0.87       388\n",
      "         1.0       0.86      0.91      0.88       400\n",
      "\n",
      "    accuracy                           0.87       788\n",
      "   macro avg       0.88      0.87      0.87       788\n",
      "weighted avg       0.88      0.87      0.87       788\n",
      "\n"
     ]
    }
   ],
   "source": [
    "print('report:', classification_report(y_test, predicted), sep='\\n')"
   ]
  },
  {
   "cell_type": "markdown",
   "id": "feac0cbb",
   "metadata": {},
   "source": [
    "### 2. K-NN Classifier"
   ]
  },
  {
   "cell_type": "code",
   "execution_count": 240,
   "id": "41260cf1",
   "metadata": {},
   "outputs": [],
   "source": [
    "from sklearn.neighbors import KNeighborsClassifier"
   ]
  },
  {
   "cell_type": "code",
   "execution_count": 241,
   "id": "fd70336e",
   "metadata": {},
   "outputs": [
    {
     "name": "stderr",
     "output_type": "stream",
     "text": [
      "C:\\Users\\verma\\anaconda3\\lib\\site-packages\\sklearn\\neighbors\\_classification.py:198: DataConversionWarning: A column-vector y was passed when a 1d array was expected. Please change the shape of y to (n_samples,), for example using ravel().\n",
      "  return self._fit(X, y)\n"
     ]
    },
    {
     "data": {
      "text/plain": [
       "KNeighborsClassifier(n_neighbors=3)"
      ]
     },
     "execution_count": 241,
     "metadata": {},
     "output_type": "execute_result"
    }
   ],
   "source": [
    "knn = KNeighborsClassifier(n_neighbors=3)\n",
    "knn.fit(x_train, y_train)"
   ]
  },
  {
   "cell_type": "code",
   "execution_count": 251,
   "id": "c0c97fb3",
   "metadata": {},
   "outputs": [
    {
     "name": "stdout",
     "output_type": "stream",
     "text": [
      "Model accuracy is : 0.9302030456852792\n"
     ]
    }
   ],
   "source": [
    "print('Model accuracy is :', knn.score(x_test,y_test))"
   ]
  },
  {
   "cell_type": "code",
   "execution_count": 245,
   "id": "2ad272b3",
   "metadata": {},
   "outputs": [
    {
     "data": {
      "image/png": "[encoded data removed]",
      "text/plain": [
       "<Figure size 576x576 with 1 Axes>"
      ]
     },
     "metadata": {
      "needs_background": "light"
     },
     "output_type": "display_data"
    }
   ],
   "source": [
    "# to see visuale confusion matrix of x_train and y_train\n",
    "\n",
    "cm = confusion_matrix(y_train, knn.predict(x_train))\n",
    "\n",
    "fig, ax = plt.subplots(figsize=(8, 8))\n",
    "ax.imshow(cm)\n",
    "ax.grid(False)\n",
    "ax.xaxis.set(ticks=(0, 1), ticklabels=('Predicted 0s', 'Predicted 1s'))\n",
    "ax.yaxis.set(ticks=(0, 1), ticklabels=('Actual 0s', 'Actual 1s'))\n",
    "ax.set_ylim(1.5, -0.5)\n",
    "for i in range(2):\n",
    "    for j in range(2):\n",
    "        ax.text(j, i, cm[i, j], ha='center', va='center', color='red')\n",
    "plt.show()\n"
   ]
  },
  {
   "cell_type": "code",
   "execution_count": 247,
   "id": "e4fb4f79",
   "metadata": {},
   "outputs": [
    {
     "name": "stdout",
     "output_type": "stream",
     "text": [
      "report:\n",
      "              precision    recall  f1-score   support\n",
      "\n",
      "         0.0       0.93      0.99      0.96      1125\n",
      "         1.0       0.99      0.94      0.96      1237\n",
      "\n",
      "    accuracy                           0.96      2362\n",
      "   macro avg       0.96      0.96      0.96      2362\n",
      "weighted avg       0.96      0.96      0.96      2362\n",
      "\n"
     ]
    }
   ],
   "source": [
    "print('report:', classification_report(knn.predict(x_train), y_train), sep='\\n')"
   ]
  },
  {
   "cell_type": "code",
   "execution_count": 244,
   "id": "9419d668",
   "metadata": {},
   "outputs": [
    {
     "data": {
      "image/png": "[encoded data removed]",
      "text/plain": [
       "<Figure size 576x576 with 1 Axes>"
      ]
     },
     "metadata": {
      "needs_background": "light"
     },
     "output_type": "display_data"
    }
   ],
   "source": [
    "# to see visuale the confusion matrix of y_test and predicted values\n",
    "\n",
    "cm = confusion_matrix(y_test, knn.predict(x_test))\n",
    "\n",
    "fig, ax = plt.subplots(figsize=(8, 8))\n",
    "ax.imshow(cm)\n",
    "ax.grid(False)\n",
    "ax.xaxis.set(ticks=(0, 1), ticklabels=('Predicted 0s', 'Predicted 1s'))\n",
    "ax.yaxis.set(ticks=(0, 1), ticklabels=('Actual 0s', 'Actual 1s'))\n",
    "ax.set_ylim(1.5, -0.5)\n",
    "for i in range(2):\n",
    "    for j in range(2):\n",
    "        ax.text(j, i, cm[i, j], ha='center', va='center', color='red')\n",
    "plt.show()"
   ]
  },
  {
   "cell_type": "markdown",
   "id": "2a1e6740",
   "metadata": {},
   "source": [
    "**COMMENT :-** In K-NN Classifier accuracy increases"
   ]
  },
  {
   "cell_type": "code",
   "execution_count": 283,
   "id": "d51a7ff3",
   "metadata": {},
   "outputs": [
    {
     "name": "stdout",
     "output_type": "stream",
     "text": [
      "report:\n",
      "              precision    recall  f1-score   support\n",
      "\n",
      "         0.0       0.88      0.97      0.93       351\n",
      "         1.0       0.98      0.89      0.93       437\n",
      "\n",
      "    accuracy                           0.93       788\n",
      "   macro avg       0.93      0.93      0.93       788\n",
      "weighted avg       0.93      0.93      0.93       788\n",
      "\n"
     ]
    }
   ],
   "source": [
    "print('report:', classification_report(knn.predict(x_test), y_test), sep='\\n')"
   ]
  },
  {
   "cell_type": "code",
   "execution_count": 285,
   "id": "47a0dd55",
   "metadata": {},
   "outputs": [
    {
     "name": "stdout",
     "output_type": "stream",
     "text": [
      "Accuracy of train data:  0.9606265876375952\n",
      "Accuracy of test data:  0.9302030456852792\n"
     ]
    }
   ],
   "source": [
    "print('Accuracy of train data: ', knn.score(x_train, y_train))\n",
    "print('Accuracy of test data: ', knn.score(x_test,y_test))\n"
   ]
  },
  {
   "cell_type": "markdown",
   "id": "a2dd5c01",
   "metadata": {},
   "source": [
    "### 3. Support Vector Machine(SVM)"
   ]
  },
  {
   "cell_type": "code",
   "execution_count": 253,
   "id": "f6531270",
   "metadata": {},
   "outputs": [],
   "source": [
    "from sklearn.svm import SVC"
   ]
  },
  {
   "cell_type": "code",
   "execution_count": 273,
   "id": "6f620bf4",
   "metadata": {},
   "outputs": [],
   "source": [
    "svc = SVC(C= 10)"
   ]
  },
  {
   "cell_type": "code",
   "execution_count": 274,
   "id": "d79826b2",
   "metadata": {},
   "outputs": [
    {
     "name": "stderr",
     "output_type": "stream",
     "text": [
      "C:\\Users\\verma\\anaconda3\\lib\\site-packages\\sklearn\\utils\\validation.py:993: DataConversionWarning: A column-vector y was passed when a 1d array was expected. Please change the shape of y to (n_samples, ), for example using ravel().\n",
      "  y = column_or_1d(y, warn=True)\n"
     ]
    },
    {
     "data": {
      "text/plain": [
       "SVC(C=10)"
      ]
     },
     "execution_count": 274,
     "metadata": {},
     "output_type": "execute_result"
    }
   ],
   "source": [
    "svc.fit(x_train, y_train)"
   ]
  },
  {
   "cell_type": "code",
   "execution_count": 275,
   "id": "acba1c99",
   "metadata": {},
   "outputs": [
    {
     "data": {
      "text/plain": [
       "0.9200507614213198"
      ]
     },
     "execution_count": 275,
     "metadata": {},
     "output_type": "execute_result"
    }
   ],
   "source": [
    "svc.score(x_test, y_test)"
   ]
  },
  {
   "cell_type": "code",
   "execution_count": 276,
   "id": "e3a8e0ff",
   "metadata": {},
   "outputs": [
    {
     "data": {
      "image/png": "[encoded data removed]",
      "text/plain": [
       "<Figure size 576x576 with 1 Axes>"
      ]
     },
     "metadata": {
      "needs_background": "light"
     },
     "output_type": "display_data"
    }
   ],
   "source": [
    "# to see visuale confusion matrix of x_train and y_train\n",
    "\n",
    "cm = confusion_matrix(y_train, svc.predict(x_train))\n",
    "\n",
    "fig, ax = plt.subplots(figsize=(8, 8))\n",
    "ax.imshow(cm)\n",
    "ax.grid(False)\n",
    "ax.xaxis.set(ticks=(0, 1), ticklabels=('Predicted 0s', 'Predicted 1s'))\n",
    "ax.yaxis.set(ticks=(0, 1), ticklabels=('Actual 0s', 'Actual 1s'))\n",
    "ax.set_ylim(1.5, -0.5)\n",
    "for i in range(2):\n",
    "    for j in range(2):\n",
    "        ax.text(j, i, cm[i, j], ha='center', va='center', color='red')\n",
    "plt.show()\n"
   ]
  },
  {
   "cell_type": "code",
   "execution_count": 279,
   "id": "eea01516",
   "metadata": {},
   "outputs": [
    {
     "name": "stdout",
     "output_type": "stream",
     "text": [
      "report:\n",
      "              precision    recall  f1-score   support\n",
      "\n",
      "         0.0       0.89      0.94      0.92      1123\n",
      "         1.0       0.95      0.90      0.92      1239\n",
      "\n",
      "    accuracy                           0.92      2362\n",
      "   macro avg       0.92      0.92      0.92      2362\n",
      "weighted avg       0.92      0.92      0.92      2362\n",
      "\n"
     ]
    }
   ],
   "source": [
    "print('report:', classification_report(svc.predict(x_train), y_train), sep='\\n')"
   ]
  },
  {
   "cell_type": "code",
   "execution_count": 280,
   "id": "f28245aa",
   "metadata": {},
   "outputs": [
    {
     "data": {
      "image/png": "[encoded data removed]",
      "text/plain": [
       "<Figure size 576x576 with 1 Axes>"
      ]
     },
     "metadata": {
      "needs_background": "light"
     },
     "output_type": "display_data"
    }
   ],
   "source": [
    "# to see visuale the confusion matrix of y_test and predicted values\n",
    "\n",
    "cm = confusion_matrix(y_test, svc.predict(x_test))\n",
    "\n",
    "fig, ax = plt.subplots(figsize=(8, 8))\n",
    "ax.imshow(cm)\n",
    "ax.grid(False)\n",
    "ax.xaxis.set(ticks=(0, 1), ticklabels=('Predicted 0s', 'Predicted 1s'))\n",
    "ax.yaxis.set(ticks=(0, 1), ticklabels=('Actual 0s', 'Actual 1s'))\n",
    "ax.set_ylim(1.5, -0.5)\n",
    "for i in range(2):\n",
    "    for j in range(2):\n",
    "        ax.text(j, i, cm[i, j], ha='center', va='center', color='red')\n",
    "plt.show()"
   ]
  },
  {
   "cell_type": "code",
   "execution_count": 282,
   "id": "7d7f8db2",
   "metadata": {},
   "outputs": [
    {
     "name": "stdout",
     "output_type": "stream",
     "text": [
      "report:\n",
      "              precision    recall  f1-score   support\n",
      "\n",
      "         0.0       0.89      0.95      0.92       365\n",
      "         1.0       0.95      0.90      0.92       423\n",
      "\n",
      "    accuracy                           0.92       788\n",
      "   macro avg       0.92      0.92      0.92       788\n",
      "weighted avg       0.92      0.92      0.92       788\n",
      "\n"
     ]
    }
   ],
   "source": [
    "print('report:', classification_report(svc.predict(x_test), y_test), sep='\\n')"
   ]
  },
  {
   "cell_type": "code",
   "execution_count": 287,
   "id": "d083e337",
   "metadata": {},
   "outputs": [
    {
     "name": "stdout",
     "output_type": "stream",
     "text": [
      "Accuracy of train data:  0.9191363251481796\n",
      "Accuracy of test data:  0.9200507614213198\n"
     ]
    }
   ],
   "source": [
    "print('Accuracy of train data: ', svc.score(x_train, y_train))\n",
    "print('Accuracy of test data: ', svc.score(x_test,y_test))\n"
   ]
  },
  {
   "cell_type": "markdown",
   "id": "0edfbcc5",
   "metadata": {},
   "source": [
    "**CONCLUSION :-** \n",
    "   * For our model prediction K-NN classifier give less False Positive and less False Negative value which increase model Accuracy, Sensitivity and Precision.\n",
    "   * K-NN classifier good model compare to logistic regression and support vector machine."
   ]
  }
 ],
 "metadata": {
  "kernelspec": {
   "display_name": "Python 3 (ipykernel)",
   "language": "python",
   "name": "python3"
  },
  "language_info": {
   "codemirror_mode": {
    "name": "ipython",
    "version": 3
   },
   "file_extension": ".py",
   "mimetype": "text/x-python",
   "name": "python",
   "nbconvert_exporter": "python",
   "pygments_lexer": "ipython3",
   "version": "3.9.12"
  }
 },
 "nbformat": 4,
 "nbformat_minor": 5
}
